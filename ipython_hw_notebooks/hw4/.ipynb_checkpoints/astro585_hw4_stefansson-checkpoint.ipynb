{
 "metadata": {
  "language": "Julia",
  "name": ""
 },
 "nbformat": 3,
 "nbformat_minor": 0,
 "worksheets": [
  {
   "cells": [
    {
     "cell_type": "markdown",
     "metadata": {},
     "source": [
      "#1. Profiling\n",
      "\n",
      "##1a) Picking two functions to profile\n",
      "\n",
      "I chose to try out the \"Hw4_leapfrog\" and \"HW4_leapfrog_student\" files that were provided:"
     ]
    },
    {
     "cell_type": "code",
     "collapsed": false,
     "input": [
      "include(\"HW4_leapfrog.jl\")\n",
      "include(\"HW4_leapfrog_student.jl\")"
     ],
     "language": "python",
     "metadata": {},
     "outputs": [
      {
       "metadata": {},
       "output_type": "pyout",
       "prompt_number": 1,
       "text": [
        "test_leapfrog_student (generic function with 2 methods)"
       ]
      }
     ],
     "prompt_number": 1
    },
    {
     "cell_type": "markdown",
     "metadata": {},
     "source": [
      "##1b) Inspecting code\n",
      "\n",
      "####_leapfrog.jl_\n",
      "I think that the program will spend a lot of time in line 87 (calling *advance_leapfrog*).\n",
      "\n",
      "####*leapfrog_student.jl*\n",
      "I think that lines 36-39, will take long, as you are concatenating the vector in every loop. It would be a much better idea to allocate first an array that was big enough to contain all the calculated states."
     ]
    },
    {
     "cell_type": "markdown",
     "metadata": {},
     "source": [
      "##1c) Profiling\n",
      "\n",
      "Lets clear the profiler first, then lets carry out the calculation:\n",
      "####integrate_leapfrog"
     ]
    },
    {
     "cell_type": "code",
     "collapsed": false,
     "input": [
      "Profile.clear()\n",
      "@profile integrate_leapfrog!([1.,0.,0.,1.], 0.5, 1000000.);\n",
      "Profile.print()"
     ],
     "language": "python",
     "metadata": {},
     "outputs": [
      {
       "output_type": "stream",
       "stream": "stdout",
       "text": [
        "1    ...ks/hw4/HW4_leapfrog.jl; update_derivs_pos!; line: 8\n"
       ]
      },
      {
       "output_type": "stream",
       "stream": "stdout",
       "text": [
        "1    ...ks/hw4/HW4_leapfrog.jl; update_derivs_pos!; line: 10\n",
        "4    ...ks/hw4/HW4_leapfrog.jl; update_derivs_pos!; line: 11\n",
        "1    abstractarray.jl; trailingsize; line: 55\n",
        "1170 loading.jl; include_string; line: 89\n",
        "     1170 profile.jl; anonymous; line: 14\n",
        "      16  .../hw4/HW4_leapfrog.jl; integrate_leapfrog!; line: 78\n",
        "      992 .../hw4/HW4_leapfrog.jl; integrate_leapfrog!; line: 87\n",
        "            9   ...4/HW4_leapfrog.jl; advance_leapfrog!; line: 46\n",
        "            171 ...4/HW4_leapfrog.jl; advance_leapfrog!; line: 51\n",
        "            61  ...4/HW4_leapfrog.jl; advance_leapfrog!; line: 52\n",
        "             2  ...4/HW4_leapfrog.jl; update_derivs_vel!; line: 18\n",
        "             4  ...4/HW4_leapfrog.jl; update_derivs_vel!; line: 23\n",
        "             5  ...4/HW4_leapfrog.jl; update_derivs_vel!; line: 24\n",
        "             2  ...4/HW4_leapfrog.jl; update_derivs_vel!; line: 25\n",
        "             23 ...4/HW4_leapfrog.jl; update_derivs_vel!; line: 26\n",
        "             11 ...4/HW4_leapfrog.jl; update_derivs_vel!; line: 27\n",
        "             1  ...4/HW4_leapfrog.jl; update_derivs_vel!; line: 28\n",
        "             1  ...4/HW4_leapfrog.jl; update_derivs_vel!; line: 29\n",
        "            184 ...4/HW4_leapfrog.jl; advance_leapfrog!; line: 53\n",
        "            1   ...4/HW4_leapfrog.jl; advance_leapfrog!; line: 54\n",
        "            130 ...4/HW4_leapfrog.jl; advance_leapfrog!; line: 55\n",
        "            1   ...4/HW4_leapfrog.jl; update_derivs_pos!; line: 6\n",
        "      3   .../hw4/HW4_leapfrog.jl; integrate_leapfrog!; line: 88\n",
        "      32  .../hw4/HW4_leapfrog.jl; integrate_leapfrog!; line: 91\n",
        "      14  .../hw4/HW4_leapfrog.jl; integrate_leapfrog!; line: 94\n",
        "       2  multidimensional.jl; getindex!; line: 33\n",
        "       1  multidimensional.jl; getindex!; line: 256\n",
        "       1  multidimensional.jl; getindex!; line: 257\n",
        "      112 .../hw4/HW4_leapfrog.jl; integrate_leapfrog!; line: 95\n",
        "       4   deepcopy.jl; deepcopy_internal; line: 45\n",
        "       7   deepcopy.jl; deepcopy_internal; line: 46\n",
        "        5 deepcopy.jl; _deepcopy_array_t; line: 52\n",
        "           1 reflection.jl; isbits; line: 36\n",
        "        2 deepcopy.jl; _deepcopy_array_t; line: 55\n",
        "         2  multidimensional.jl; setindex!; line: 257\n",
        "         1  range.jl; getindex; line: 114\n",
        "1    multidimensional.jl; checksize; line: 7\n"
       ]
      }
     ],
     "prompt_number": 5
    },
    {
     "cell_type": "markdown",
     "metadata": {},
     "source": [
      "Now to profile the other function, _the student version_ :\n",
      "\n",
      "####integrate_leapfrog_student"
     ]
    },
    {
     "cell_type": "code",
     "collapsed": false,
     "input": [
      "Profile.clear()\n",
      "@profile integrate_leapfrog_student([1.,0.,0.,1.], 0.5, 10000.);\n",
      "Profile.print()"
     ],
     "language": "python",
     "metadata": {},
     "outputs": [
      {
       "output_type": "stream",
       "stream": "stdout",
       "text": [
        "3852 loading.jl; include_string; line: 89\n"
       ]
      },
      {
       "output_type": "stream",
       "stream": "stdout",
       "text": [
        "     3852 profile.jl; anonymous; line: 14\n",
        "      1   ..._leapfrog_student.jl; derrivatives; line: 2\n",
        "      749 ..._leapfrog_student.jl; integrate_leapfrog_student; line: 31\n",
        "       749 ...leapfrog_student.jl; leapfrog_update_pos; line: 13\n",
        "      5   ..._leapfrog_student.jl; integrate_leapfrog_student; line: 32\n",
        "       2 ..._leapfrog_student.jl; derrivatives; line: 2\n",
        "        2 math.jl; ^; line: 408\n",
        "       2 ..._leapfrog_student.jl; derrivatives; line: 7\n",
        "       1 math.jl; ^; line: 408\n",
        "      3   ..._leapfrog_student.jl; integrate_leapfrog_student; line: 33\n",
        "       3 ..._leapfrog_student.jl; leapfrog_update_both; line: 20\n",
        "      252 ..._leapfrog_student.jl; integrate_leapfrog_student; line: 36\n",
        "       1   abstractarray.jl; vcat; line: 499\n",
        "        4   array.jl; vcat; line: 936\n",
        "        247 array.jl; vcat; line: 946\n",
        "      890 ..._leapfrog_student.jl; integrate_leapfrog_student; line: 37\n",
        "       3   abstractarray.jl; vcat; line: 499\n",
        "        5   array.jl; vcat; line: 936\n",
        "        1   array.jl; vcat; line: 944\n",
        "        228 array.jl; vcat; line: 946\n",
        "      979 ..._leapfrog_student.jl; integrate_leapfrog_student; line: 38\n",
        "       3   abstractarray.jl; vcat; line: 499\n",
        "        7   array.jl; vcat; line: 936\n",
        "        193 array.jl; vcat; line: 946\n",
        "      973 ..._leapfrog_student.jl; integrate_leapfrog_student; line: 39\n",
        "       2   abstractarray.jl; vcat; line: 499\n",
        "        6   array.jl; vcat; line: 936\n",
        "        217 array.jl; vcat; line: 946\n"
       ]
      }
     ],
     "prompt_number": 7
    },
    {
     "cell_type": "markdown",
     "metadata": {},
     "source": [
      "##1d) Where are the programs spending most of their time?\n",
      "\n",
      "####integrate_leapfrog\n",
      "The following lines show where the program is spending most of its time:\n",
      "\n",
      "     992 .../hw4/HW4_leapfrog.jl; integrate_leapfrog!; line: 87\n",
      "\n",
      "         171 ...4/HW4_leapfrog.jl; advance_leapfrog!; line: 51\n",
      "\n",
      "         184 ...4/HW4_leapfrog.jl; advance_leapfrog!; line: 53\n",
      "     \n",
      "Originally I didn't have a good idea where integrate_leapfrog would spend most of its time, but we see that it is in the helper function *advance_leapfrog!*, more specifically in lines 51, and 53 - where we update the states.\n",
      "\n",
      "####integrate_leapfrog_student\n",
      "The following lines show where the program is spending most of its time:\n",
      "\n",
      "      749 ..._leapfrog_student.jl; integrate_leapfrog_student; line: 31\n",
      "          749 ...leapfrog_student.jl; leapfrog_update_pos; line: 13\n",
      "\n",
      "      890 ..._leapfrog_student.jl; integrate_leapfrog_student; line: 37\n",
      "\n",
      "            228 array.jl; vcat; line: 946\n",
      "      979 ..._leapfrog_student.jl; integrate_leapfrog_student; line: 38\n",
      "    \n",
      "            193 array.jl; vcat; line: 946\n",
      "      973 ..._leapfrog_student.jl; integrate_leapfrog_student; line: 39\n",
      "    \n",
      "            217 array.jl; vcat; line: 946\n",
      "            \n",
      "As expected, the student version is spending most of its time in concatenating (see how many times _vcat_ shows up!) the newly calculated result at the end of the main vectors. Also, we see that a little less than a quarter of the time is spent in *leapfrog_update_pos*, line 13.\n",
      "\n",
      "##1e) Improving sections of the code\n",
      "I definitely think that the student code can be improved, my first idea would be to use something similar is in the instructor version: fixed size array, instead of ever increasing concatenated vectors. We see a very big difference: the student version runs in a similar amount of time for duration=10000, as the instructor version does for duration=1million (on my computer).\n",
      "\n",
      "I didn't tackle my optimization idea, as I was running out of time.\n",
      "\n",
      "##1f) Optimization - implementing vectorization idea\n",
      "Ran out of time - around 6.5 hours spent on homework.\n",
      "\n",
      "##1g) Benchmark optimized version\n",
      "Ran out of time - around 6.5 hours spent on homework."
     ]
    },
    {
     "cell_type": "markdown",
     "metadata": {},
     "source": [
      "#Question 2\n",
      "\n",
      "##2a) Writing a function to evaluate a univariate integrand\n",
      "- I choose to evaluate the standard normal pdf:"
     ]
    },
    {
     "cell_type": "code",
     "collapsed": false,
     "input": [
      "function normal_pdf(x)\n",
      "    #Returns the value of the normal_pdf at x\n",
      "    return exp(-0.5*x.*x)/sqrt(2*pi)\n",
      "end"
     ],
     "language": "python",
     "metadata": {},
     "outputs": [
      {
       "metadata": {},
       "output_type": "pyout",
       "prompt_number": 9,
       "text": [
        "normal_pdf (generic function with 1 method)"
       ]
      }
     ],
     "prompt_number": 9
    },
    {
     "cell_type": "markdown",
     "metadata": {},
     "source": [
      "Lets also write a small testing function which returns the residual"
     ]
    },
    {
     "cell_type": "code",
     "collapsed": false,
     "input": [
      "function pdf_residual(func, d, N=1000000)\n",
      "    #A function to evaluate the residual of **normal_pdf** integrated using **func**\n",
      "    # INPUTS:\n",
      "    # func      the function which implements the trapezoidal integration\n",
      "    # d         -d is the lower limit of integration\n",
      "    #           d is the higher limit of integration\n",
      "    # N         OPTIONAL number of function evaluations\n",
      "    err_val  = erf(d/sqrt(2))\n",
      "    calc_val = func(normal_pdf,-d, d, N)\n",
      "    residual = abs(err_val - calc_val)\n",
      "    return residual\n",
      "end "
     ],
     "language": "python",
     "metadata": {},
     "outputs": [
      {
       "metadata": {},
       "output_type": "pyout",
       "prompt_number": 10,
       "text": [
        "pdf_residual (generic function with 2 methods)"
       ]
      }
     ],
     "prompt_number": 10
    },
    {
     "cell_type": "markdown",
     "metadata": {},
     "source": [
      "##2b) Evaluating an integral using a for loop:"
     ]
    },
    {
     "cell_type": "code",
     "collapsed": false,
     "input": [
      "function int_for(integrand, a, b, N=1000000)\n",
      "    # A function which integrates **integrand** using the trapezoid rule _using a for loop_\n",
      "    # INPUTS:\n",
      "    # a     the minimum limit of integration\n",
      "    # b     the maximum limit of integration\n",
      "    # N     OPTIONAL number of function evaluations\n",
      "    # NOTES:\n",
      "    #   We assume: a < b\n",
      "    @assert a < b\n",
      "    sum = 0;\n",
      "    h = (b-a)/N \n",
      "    for i=1:N\n",
      "        sum = sum + (integrand(a+i*h) + integrand(a+(i-1)*h))\n",
      "    end\n",
      "    return sum*(h/2.0)\n",
      "end "
     ],
     "language": "python",
     "metadata": {},
     "outputs": [
      {
       "metadata": {},
       "output_type": "pyout",
       "prompt_number": 11,
       "text": [
        "int_for (generic function with 2 methods)"
       ]
      }
     ],
     "prompt_number": 11
    },
    {
     "cell_type": "markdown",
     "metadata": {},
     "source": [
      "Lets try it out,"
     ]
    },
    {
     "cell_type": "code",
     "collapsed": false,
     "input": [
      "@time int_for(normal_pdf,-20,20)"
     ],
     "language": "python",
     "metadata": {},
     "outputs": [
      {
       "output_type": "stream",
       "stream": "stdout",
       "text": [
        "elapsed time: 0."
       ]
      },
      {
       "output_type": "stream",
       "stream": "stdout",
       "text": [
        "250336257 seconds (96411720 bytes allocated)\n"
       ]
      },
      {
       "metadata": {},
       "output_type": "pyout",
       "prompt_number": 12,
       "text": [
        "0.9999999999998569"
       ]
      }
     ],
     "prompt_number": 12
    },
    {
     "cell_type": "markdown",
     "metadata": {},
     "source": [
      "I tried adding \"@parallel\" before the for-loop - it did not work as it should: The outputted answer was 0. This is due to the fact that then the different threads will be accessing the variable **sum** in random order; and they threads won't add it up to the correct end result.\n",
      "\n",
      "Moreover,  using the **pdf_residual** function:"
     ]
    },
    {
     "cell_type": "code",
     "collapsed": false,
     "input": [
      "pdf_residual(int_for, 5)"
     ],
     "language": "python",
     "metadata": {},
     "outputs": [
      {
       "metadata": {},
       "output_type": "pyout",
       "prompt_number": 13,
       "text": [
        "4.3298697960381105e-14"
       ]
      }
     ],
     "prompt_number": 13
    },
    {
     "cell_type": "markdown",
     "metadata": {},
     "source": [
      "##2c) Evaluating using vector notation"
     ]
    },
    {
     "cell_type": "code",
     "collapsed": false,
     "input": [
      "function int_vector(integrand, a, b, N=1000000)\n",
      "    # A function which integrates **integrand** using the trapezoid rule _using vector notation_\n",
      "    # INPUTS:\n",
      "    # a     the minimum limit of integration\n",
      "    # b     the maximum limit of integration\n",
      "    # N     OPTIONAL number of function evaluations\n",
      "    # NOTES:\n",
      "    #   We assume: a < b\n",
      "    @assert a < b\n",
      "    h = (b-a)/(N-1) \n",
      "    #Create a N element array from a to b with a stepsize of h=(b-a)/(N-1)\n",
      "    xarray = linspace(a,b,N)\n",
      "    intval = integrand(xarray)\n",
      "    #\n",
      "    intval[2:end-1] *=2\n",
      "    return sum(intval)*h/2.0\n",
      "end "
     ],
     "language": "python",
     "metadata": {},
     "outputs": [
      {
       "metadata": {},
       "output_type": "pyout",
       "prompt_number": 14,
       "text": [
        "int_vector (generic function with 2 methods)"
       ]
      }
     ],
     "prompt_number": 14
    },
    {
     "cell_type": "markdown",
     "metadata": {},
     "source": [
      "**Lets test it:**"
     ]
    },
    {
     "cell_type": "code",
     "collapsed": false,
     "input": [
      "@time int_vector(normal_pdf,-20,20)"
     ],
     "language": "python",
     "metadata": {},
     "outputs": [
      {
       "output_type": "stream",
       "stream": "stdout",
       "text": [
        "elapsed time: 0."
       ]
      },
      {
       "output_type": "stream",
       "stream": "stdout",
       "text": [
        "253365605 seconds (62071264 bytes allocated)\n"
       ]
      },
      {
       "metadata": {},
       "output_type": "pyout",
       "prompt_number": 15,
       "text": [
        "1.0"
       ]
      }
     ],
     "prompt_number": 15
    },
    {
     "cell_type": "code",
     "collapsed": false,
     "input": [
      "pdf_residual(int_vector, 5)"
     ],
     "language": "python",
     "metadata": {},
     "outputs": [
      {
       "metadata": {},
       "output_type": "pyout",
       "prompt_number": 16,
       "text": [
        "2.220446049250313e-16"
       ]
      }
     ],
     "prompt_number": 16
    },
    {
     "cell_type": "markdown",
     "metadata": {},
     "source": [
      "##2d) Evaluating using _map_ and _reduce_"
     ]
    },
    {
     "cell_type": "code",
     "collapsed": false,
     "input": [
      "function int_map(integrand, a, b, N=1000000)\n",
      "    # A function which integrates **integrand** using the trapezoid rule _map and reduce_\n",
      "    # INPUTS:\n",
      "    # a     the minimum limit of integration\n",
      "    # b     the maximum limit of integration\n",
      "    # N     OPTIONAL number of function evaluations\n",
      "    # NOTES:\n",
      "    #   We assume: a < b\n",
      "    @assert a < b\n",
      "    h = (b-a)/(N-1)\n",
      "    #Create a N element array from a to b with a stepsize of h=(b-a)/(N-1)\n",
      "    #xarray = [a+i*h for i=0:(N-1)]\n",
      "    xarray = linspace(a,b,N)\n",
      "    intval = map(integrand,xarray)\n",
      "    #\n",
      "    intval[2:end-1] *=2\n",
      "    return reduce(+,intval)*h/2.0\n",
      "end"
     ],
     "language": "python",
     "metadata": {},
     "outputs": [
      {
       "metadata": {},
       "output_type": "pyout",
       "prompt_number": 17,
       "text": [
        "int_map (generic function with 2 methods)"
       ]
      }
     ],
     "prompt_number": 17
    },
    {
     "cell_type": "markdown",
     "metadata": {},
     "source": [
      "**Lets test it:**"
     ]
    },
    {
     "cell_type": "code",
     "collapsed": false,
     "input": [
      "@time int_map(normal_pdf,-20,20)"
     ],
     "language": "python",
     "metadata": {},
     "outputs": [
      {
       "output_type": "stream",
       "stream": "stdout",
       "text": [
        "elapsed time: 0."
       ]
      },
      {
       "output_type": "stream",
       "stream": "stdout",
       "text": [
        "268344859 seconds (113418908 bytes allocated)\n"
       ]
      },
      {
       "metadata": {},
       "output_type": "pyout",
       "prompt_number": 18,
       "text": [
        "1.0"
       ]
      }
     ],
     "prompt_number": 18
    },
    {
     "cell_type": "code",
     "collapsed": false,
     "input": [
      "pdf_residual(int_map, 5)"
     ],
     "language": "python",
     "metadata": {},
     "outputs": [
      {
       "metadata": {},
       "output_type": "pyout",
       "prompt_number": 19,
       "text": [
        "1.1102230246251565e-16"
       ]
      }
     ],
     "prompt_number": 19
    },
    {
     "cell_type": "markdown",
     "metadata": {},
     "source": [
      "##2e) Evaluating using _mapreduce_"
     ]
    },
    {
     "cell_type": "code",
     "collapsed": false,
     "input": [
      "function int_mapreduce(integrand, a, b, N=1000000)\n",
      "    # A function which integrates **integrand** using the trapezoid rule _using vector notation_\n",
      "    # INPUTS:\n",
      "    # a     the minimum limit of integration\n",
      "    # b     the maximum limit of integration\n",
      "    # N     OPTIONAL number of function evaluations\n",
      "    # NOTES:\n",
      "    #   We assume: a < b\n",
      "    @assert a < b\n",
      "    h = (b-a)/(N-1) \n",
      "    #Create a N element array from a to b with a stepsize of h=(b-a)/(N-1)\n",
      "    #xarray = [a+i*h for i=0:(N-1)]\n",
      "    xarray = linspace(a,b,N)\n",
      "    \n",
      "    #Sum up the values\n",
      "    res_sum = 2*mapreduce(integrand,+,xarray)\n",
      "    #We over-summed the end-points:\n",
      "    res_sum = res_sum - integrand(xarray[1]) - integrand(xarray[end])\n",
      "    #\n",
      "    return res_sum*h/2.0\n",
      "end"
     ],
     "language": "python",
     "metadata": {},
     "outputs": [
      {
       "metadata": {},
       "output_type": "pyout",
       "prompt_number": 20,
       "text": [
        "int_mapreduce (generic function with 2 methods)"
       ]
      }
     ],
     "prompt_number": 20
    },
    {
     "cell_type": "markdown",
     "metadata": {},
     "source": [
      "**Lets test it:**"
     ]
    },
    {
     "cell_type": "code",
     "collapsed": false,
     "input": [
      "@time int_mapreduce(normal_pdf,-20,20)"
     ],
     "language": "python",
     "metadata": {},
     "outputs": [
      {
       "output_type": "stream",
       "stream": "stdout",
       "text": [
        "elapsed time: 0."
       ]
      },
      {
       "output_type": "stream",
       "stream": "stdout",
       "text": [
        "169240136 seconds (56285276 bytes allocated)\n"
       ]
      },
      {
       "metadata": {},
       "output_type": "pyout",
       "prompt_number": 21,
       "text": [
        "1.0"
       ]
      }
     ],
     "prompt_number": 21
    },
    {
     "cell_type": "code",
     "collapsed": false,
     "input": [
      "pdf_residual(int_mapreduce, 5)"
     ],
     "language": "python",
     "metadata": {},
     "outputs": [
      {
       "metadata": {},
       "output_type": "pyout",
       "prompt_number": 22,
       "text": [
        "1.1102230246251565e-16"
       ]
      }
     ],
     "prompt_number": 22
    },
    {
     "cell_type": "markdown",
     "metadata": {},
     "source": [
      "##2f) Evaluating using the @devec macro from the _Devectorize_ package"
     ]
    },
    {
     "cell_type": "code",
     "collapsed": false,
     "input": [
      "using Devectorize\n",
      "function int_devec(a, b, N=1000000)\n",
      "    # A function which integrates the normal_pdf function using the trapezoid rule _using devec_\n",
      "    # INPUTS:\n",
      "    # a     the minimum limit of integration\n",
      "    # b     the maximum limit of integration\n",
      "    # N     OPTIONAL number of function evaluations\n",
      "    # NOTES:\n",
      "    #   We assume: a < b\n",
      "    @assert a < b\n",
      "    h = (b-a)/(N-1)\n",
      "    #Create a N element array from a to b with a stepsize of h=(b-a)/(N-1)\n",
      "    x = linspace(a,b,N)\n",
      "    @devec intval = exp(-0.5.*x.*x)./sqrt(2.*pi)\n",
      "    intval[2:end-1] *=2.0\n",
      "    return sum(intval)*h/2.0\n",
      "end"
     ],
     "language": "python",
     "metadata": {},
     "outputs": [
      {
       "metadata": {},
       "output_type": "pyout",
       "prompt_number": 23,
       "text": [
        "int_devec (generic function with 2 methods)"
       ]
      }
     ],
     "prompt_number": 23
    },
    {
     "cell_type": "markdown",
     "metadata": {},
     "source": [
      "**Lets test it:**"
     ]
    },
    {
     "cell_type": "code",
     "collapsed": false,
     "input": [
      "a = (@time int_devec(-20,20))"
     ],
     "language": "python",
     "metadata": {},
     "outputs": [
      {
       "output_type": "stream",
       "stream": "stdout",
       "text": [
        "elapsed time: 0."
       ]
      },
      {
       "output_type": "stream",
       "stream": "stdout",
       "text": [
        "138706691 seconds (33855848 bytes allocated)\n"
       ]
      },
      {
       "metadata": {},
       "output_type": "pyout",
       "prompt_number": 24,
       "text": [
        "1.0"
       ]
      }
     ],
     "prompt_number": 24
    },
    {
     "cell_type": "markdown",
     "metadata": {},
     "source": [
      "##2g) Benchmarking\n",
      "\n",
      "####Function evaluations 10 billion"
     ]
    },
    {
     "cell_type": "code",
     "collapsed": false,
     "input": [
      "N1 = 10000000 "
     ],
     "language": "python",
     "metadata": {},
     "outputs": [
      {
       "metadata": {},
       "output_type": "pyout",
       "prompt_number": 27,
       "text": [
        "10000000"
       ]
      }
     ],
     "prompt_number": 27
    },
    {
     "cell_type": "markdown",
     "metadata": {},
     "source": [
      "Benchmark - **Timing:**"
     ]
    },
    {
     "cell_type": "code",
     "collapsed": false,
     "input": [
      "@time int_for(normal_pdf,-20,20,N1)\n",
      "@time int_vector(normal_pdf,-20,20,N1)\n",
      "@time int_map(normal_pdf,-20,20,N1)\n",
      "@time int_mapreduce(normal_pdf,-20,20,N1)\n",
      "@time int_devec(-20,20,N1)"
     ],
     "language": "python",
     "metadata": {},
     "outputs": [
      {
       "output_type": "stream",
       "stream": "stdout",
       "text": [
        "elapsed time: 2"
       ]
      },
      {
       "output_type": "stream",
       "stream": "stdout",
       "text": [
        ".418593598 seconds (960000080 bytes allocated)\n",
        "elapsed time: "
       ]
      },
      {
       "output_type": "stream",
       "stream": "stdout",
       "text": [
        "0.623948231 seconds (560001608 bytes allocated)\n",
        "elapsed time: "
       ]
      },
      {
       "output_type": "stream",
       "stream": "stdout",
       "text": [
        "2.154027475 seconds (1119992128 bytes allocated)\n",
        "elapsed time: "
       ]
      },
      {
       "output_type": "stream",
       "stream": "stdout",
       "text": [
        "1.317985728 seconds (560000240 bytes allocated)\n",
        "elapsed time: "
       ]
      },
      {
       "output_type": "stream",
       "stream": "stdout",
       "text": [
        "0.526583204 seconds (320000488 bytes allocated)\n"
       ]
      },
      {
       "metadata": {},
       "output_type": "pyout",
       "prompt_number": 28,
       "text": [
        "1.0"
       ]
      }
     ],
     "prompt_number": 28
    },
    {
     "cell_type": "markdown",
     "metadata": {},
     "source": [
      "Benchmark - **Residuals**"
     ]
    },
    {
     "cell_type": "code",
     "collapsed": false,
     "input": [
      "println(pdf_residual(int_for,20,N1))\n",
      "println(pdf_residual(int_vector,20,N1))\n",
      "println(pdf_residual(int_map,20,N1))\n",
      "println(pdf_residual(int_mapreduce,20,N1))\n",
      "println(abs(int_devec(-20,20,N1) - erf(20/sqrt(2))))"
     ],
     "language": "python",
     "metadata": {},
     "outputs": [
      {
       "output_type": "stream",
       "stream": "stdout",
       "text": [
        "1."
       ]
      },
      {
       "output_type": "stream",
       "stream": "stdout",
       "text": [
        "390665360645471e-12\n",
        "0"
       ]
      },
      {
       "output_type": "stream",
       "stream": "stdout",
       "text": [
        ".0\n",
        "0"
       ]
      },
      {
       "output_type": "stream",
       "stream": "stdout",
       "text": [
        ".0\n",
        "0"
       ]
      },
      {
       "output_type": "stream",
       "stream": "stdout",
       "text": [
        ".0\n",
        "0"
       ]
      },
      {
       "output_type": "stream",
       "stream": "stdout",
       "text": [
        ".0\n"
       ]
      }
     ],
     "prompt_number": 29
    },
    {
     "cell_type": "markdown",
     "metadata": {},
     "source": [
      "##2g) Profiling the best implementations\n",
      "\n",
      "Lets profile the devec, and the vector implementations:"
     ]
    },
    {
     "cell_type": "code",
     "collapsed": false,
     "input": [
      "Profile.clear()\n",
      "@profile int_devec(-20,20,N1)\n",
      "Profile.print()"
     ],
     "language": "python",
     "metadata": {},
     "outputs": [
      {
       "output_type": "stream",
       "stream": "stdout",
       "text": [
        "508 loading.jl; include_string; line: 89\n"
       ]
      },
      {
       "output_type": "stream",
       "stream": "stdout",
       "text": [
        "    508 profile.jl; anonymous; line: 14\n",
        "       103 In[23]; int_devec; line: 13\n",
        "        103 array.jl; linspace; line: 238\n",
        "       329 In[23]; int_devec; line: 14\n",
        "       60  In[23]; int_devec; line: 15\n",
        "          31 abstractarray.jl; *; line: 325\n",
        "           12 array.jl; .*; line: 716\n",
        "           2  array.jl; .*; line: 717\n",
        "           17 array.jl; .*; line: 718\n",
        "          15 array.jl; getindex; line: 296\n",
        "           15 array.jl; copy!; line: 51\n",
        "            15 array.jl; unsafe_copy!; line: 38\n",
        "             15 array.jl; unsafe_copy!; line: 31\n",
        "          14 array.jl; setindex!; line: 366\n",
        "           14 array.jl; copy!; line: 51\n",
        "            14 array.jl; unsafe_copy!; line: 38\n",
        "             14 array.jl; unsafe_copy!; line: 31\n",
        "       13  In[23]; int_devec; line: 16\n",
        "1   reduce.jl; sum_seq; line: 191\n",
        "2   reduce.jl; sum_seq; line: 192\n",
        "2   reduce.jl; sum_seq; line: 194\n",
        "1   reduce.jl; sum_seq; line: 195\n"
       ]
      }
     ],
     "prompt_number": 30
    },
    {
     "cell_type": "markdown",
     "metadata": {},
     "source": [
      "We see that considerable time (around fifth) is spent in making the **linspace**:\n",
      "\n",
      "       103 array.jl; linspace; line: 238\n",
      "\n",
      "Although most of the time is spent in the @devec line itself (line 14)"
     ]
    },
    {
     "cell_type": "code",
     "collapsed": false,
     "input": [
      "Profile.clear()\n",
      "@profile int_vector(normal_pdf,-20,20,N1)\n",
      "Profile.print()"
     ],
     "language": "python",
     "metadata": {},
     "outputs": [
      {
       "output_type": "stream",
       "stream": "stdout",
       "text": [
        "624 loading.jl; include_string; line: 89\n"
       ]
      },
      {
       "output_type": "stream",
       "stream": "stdout",
       "text": [
        "    624 profile.jl; anonymous; line: 14\n",
        "       103 In[14]; int_vector; line: 12\n",
        "        103 array.jl; linspace; line: 238\n",
        "       443 In[14]; int_vector; line: 13\n",
        "         443 In[9]; normal_pdf; line: 3\n",
        "          13  array.jl; .*; line: 709\n",
        "          1   array.jl; .*; line: 710\n",
        "          18  array.jl; .*; line: 711\n",
        "          12  broadcast.jl; broadcast!; line: 93\n",
        "          28  broadcast.jl; broadcast!; line: 102\n",
        "             5  broadcast.jl; _F_; line: 71\n",
        "             17 broadcast.jl; _F_; line: 72\n",
        "             2  broadcast.jl; _F_; line: 256\n",
        "             4  broadcast.jl; _F_; line: 257\n",
        "          12  broadcast.jl; broadcast_shape; line: 27\n",
        "            12 broadcast.jl; longer_size; line: 21\n",
        "               12 broadcast.jl; longer_size; line: 20\n",
        "           306 operators.jl; exp; line: 301\n",
        "            53 abstractarray.jl; /; line: 328\n",
        "             53 array.jl; ./; line: 718\n",
        "       61  In[14]; int_vector; line: 15\n",
        "          30 abstractarray.jl; *; line: 325\n",
        "           13 array.jl; .*; line: 716\n",
        "           1  array.jl; .*; line: 717\n",
        "           16 array.jl; .*; line: 718\n",
        "          16 array.jl; getindex; line: 296\n",
        "           16 array.jl; copy!; line: 51\n",
        "            16 array.jl; unsafe_copy!; line: 38\n",
        "             16 array.jl; unsafe_copy!; line: 31\n",
        "          15 array.jl; setindex!; line: 366\n",
        "           15 array.jl; copy!; line: 51\n",
        "            15 array.jl; unsafe_copy!; line: 38\n",
        "             15 array.jl; unsafe_copy!; line: 31\n",
        "       17  In[14]; int_vector; line: 16\n",
        "2   reduce.jl; sum_seq; line: 191\n",
        "3   reduce.jl; sum_seq; line: 194\n"
       ]
      }
     ],
     "prompt_number": 32
    },
    {
     "cell_type": "markdown",
     "metadata": {},
     "source": [
      "From the following line:\n",
      "\n",
      "       103 array.jl; linspace; line: 238\n",
      "       \n",
      "we see that around a sixth of the time is spent in making the array (with **linspace**).\n",
      "Also, from these lines:\n",
      "\n",
      "         443 In[9]; normal_pdf; line: 3\n",
      "           306 operators.jl; exp; line: 301\n",
      "\n",
      "we see that more than half of the time is spent in **normal_pdf**, and we moreover see that **exp** is also consuming quite alot of time (around half)."
     ]
    },
    {
     "cell_type": "markdown",
     "metadata": {},
     "source": [
      "##2i) Using a more complex function\n",
      "\n",
      "Lets try the planck function for T=5777K:"
     ]
    },
    {
     "cell_type": "code",
     "collapsed": false,
     "input": [
      "function planck5777(wave)\n",
      "\t\"\"\"\n",
      "    Input: Wavelength values\n",
      "    Returns: B_nu(wave), the Planck distribution function in SI units\n",
      "    for a temperature of T = 5777 K\n",
      "    \"\"\"\n",
      "    \n",
      "    #Define constants, in SI units\n",
      "    #------------------------------\n",
      "    h = 6.626e-34\n",
      "    c = 3.0e8\n",
      "    k = 1.38e-23 \n",
      "    temp = 5777\n",
      "    #------------------------------\n",
      "    \n",
      "    numer = 2.*h*(c*c)/(wave.^5)\n",
      "    denom = exp(h*c/(k*temp*wave))-1.0\n",
      "    return numer./denom\n",
      "end\n"
     ],
     "language": "python",
     "metadata": {},
     "outputs": [
      {
       "metadata": {},
       "output_type": "pyout",
       "prompt_number": 166,
       "text": [
        "planck5777 (generic function with 1 method)"
       ]
      }
     ],
     "prompt_number": 166
    },
    {
     "cell_type": "code",
     "collapsed": false,
     "input": [
      "\n",
      "using Devectorize\n",
      "function int_devec_planck5777(a, b, N=1000000)\n",
      "    # A function which integrates the planck5777 function using the trapezoid rule _using devec_\n",
      "    # INPUTS:\n",
      "    # a     the minimum limit of integration\n",
      "    # b     the maximum limit of integration\n",
      "    # N     OPTIONAL number of function evaluations\n",
      "    # NOTES:\n",
      "    #   We assume: a < b\n",
      "    @assert a < b\n",
      "    h = (b-a)/(N-1)\n",
      "    #Create a N element array from a to b with a stepsize of h=(b-a)/(N-1)\n",
      "    x = linspace(a,b,N)\n",
      "    \n",
      "    #Define constants, in SI units\n",
      "    #------------------------------\n",
      "    h = 6.626e-34\n",
      "    c = 3.0e8\n",
      "    k = 1.38e-23 \n",
      "    temp = 5777\n",
      "    #------------------------------\n",
      "    \n",
      "    numer = (2.*h*(c*c)/(wave.^5) )\n",
      "    denom = exp(h*c/(k*temp*wave))-1.0\n",
      "    intens = numer./denom\n",
      "    \n",
      "    \n",
      "    \n",
      "    @devec intval = exp(-0.5.*x.*x)./sqrt(2.*pi)\n",
      "    intval[2:end-1] *=2.0\n",
      "    return sum(intval)*h/2.0\n",
      "end\n"
     ],
     "language": "python",
     "metadata": {},
     "outputs": [
      {
       "metadata": {},
       "output_type": "pyout",
       "prompt_number": 167,
       "text": [
        "int_devec_planck5777 (generic function with 2 methods)"
       ]
      }
     ],
     "prompt_number": 167
    },
    {
     "cell_type": "markdown",
     "metadata": {},
     "source": [
      "Lets just quickly check if our function works (I wrote a similar code in Python some time ago - see here: http://gummiks.github.io/2014/01/18/planck/) "
     ]
    },
    {
     "cell_type": "code",
     "collapsed": false,
     "input": [
      "using PyPlot\n",
      "wave = linspace(0.01,5000,1000)\n",
      "intens = planck5777(wave*1e-9)*10e-9\n",
      "plot(wave, intens)"
     ],
     "language": "python",
     "metadata": {},
     "outputs": [
      {
       "metadata": {},
       "output_type": "display_data",
       "png": "[encoded data removed]",
       "text": [
        "Figure(PyObject <matplotlib.figure.Figure object at 0x7ff4e00a5f90>)"
       ]
      },
      {
       "metadata": {},
       "output_type": "pyout",
       "prompt_number": 161,
       "text": [
        "1-element Array{Any,1}:\n",
        " PyObject <matplotlib.lines.Line2D object at 0x7ff4d8945890>"
       ]
      }
     ],
     "prompt_number": 161
    },
    {
     "cell_type": "markdown",
     "metadata": {},
     "source": [
      "Now lets benchmark the different integrators again:"
     ]
    },
    {
     "cell_type": "code",
     "collapsed": false,
     "input": [
      "N1 = 10000000\n",
      "lower = 0.0001*e-9 #nm\n",
      "higher = 5000*e-9 #nm\n",
      "\n",
      "\n",
      "@time int_for(planck5777,lower,higher,N1)\n",
      "@time int_vector(planck5777,lower,higher,N1)\n",
      "@time int_map(planck5777,lower,higher,N1)\n",
      "@time int_mapreduce(planck5777,lower,higher,N1)"
     ],
     "language": "python",
     "metadata": {},
     "outputs": [
      {
       "output_type": "stream",
       "stream": "stdout",
       "text": [
        "elapsed time: 4"
       ]
      },
      {
       "output_type": "stream",
       "stream": "stdout",
       "text": [
        ".66691354 seconds (960000080 bytes allocated)\n",
        "elapsed time: "
       ]
      },
      {
       "output_type": "stream",
       "stream": "stdout",
       "text": [
        "1.610263428 seconds (800001880 bytes allocated)\n",
        "elapsed time: "
       ]
      },
      {
       "output_type": "stream",
       "stream": "stdout",
       "text": [
        "3.316624971 seconds (1119992128 bytes allocated)\n",
        "elapsed time: "
       ]
      },
      {
       "output_type": "stream",
       "stream": "stdout",
       "text": [
        "2.446164934 seconds (560000240 bytes allocated)\n"
       ]
      },
      {
       "metadata": {},
       "output_type": "pyout",
       "prompt_number": 165,
       "text": [
        "1.1387411778538976"
       ]
      }
     ],
     "prompt_number": 165
    },
    {
     "cell_type": "markdown",
     "metadata": {},
     "source": [
      "#Question 3: Effect of Branching\n",
      "\n",
      "Lets include the code:"
     ]
    },
    {
     "cell_type": "code",
     "collapsed": false,
     "input": [
      "include(\"triad.jl\")"
     ],
     "language": "python",
     "metadata": {},
     "outputs": [
      {
       "metadata": {},
       "output_type": "pyout",
       "prompt_number": 34,
       "text": [
        "triad_twist3 (generic function with 1 method)"
       ]
      }
     ],
     "prompt_number": 34
    },
    {
     "cell_type": "markdown",
     "metadata": {},
     "source": [
      "##3a) Predicting performance\n",
      "Here are the cases I am considering:\n",
      "\n",
      "1. approximately equal number of  positive and negative values, \n",
      "2. all positive values,\n",
      "3. all negative values,\n",
      "4. ~90% positive values.  \n",
      "\n",
      "####Small vectors (1000):\n",
      "\n",
      "1. I think **triad_twist3** will perform best (heavy branching for the others twist1 and twist2) - still it will be slower than **triad**.\n",
      "\n",
      "2. I think **triad_twist1** will perform best\n",
      "\n",
      "3. I think **triad_twist1** will perform best\n",
      "\n",
      "4. I think **triad_twist3** will perform best\n",
      "\n",
      "####Large vectors (10^7):\n",
      "\n",
      "1. I think **triad_twist3** will perform best (heavy branching for the others twist1 and twist2) - still it will be slower than **triad**.\n",
      "\n",
      "2. I think **triad_twist1** will perform best\n",
      "\n",
      "3. I think **triad_twist1** will perform best\n",
      "\n",
      "4. I think **triad_twist3** will perform best\n"
     ]
    },
    {
     "cell_type": "markdown",
     "metadata": {},
     "source": [
      "##3b) Benchmarking and profiling\n",
      "\n",
      "####Benchmarking - small vectors (1000):\n",
      "Lets define our vectors for the 4 different cases:"
     ]
    },
    {
     "cell_type": "code",
     "collapsed": false,
     "input": [
      "NN = 1000\n",
      "\n",
      "srand(42);\n",
      "#Case 1:\n",
      "a1 = randn(NN);\n",
      "b1 = randn(NN);\n",
      "c1 = randn(NN);\n",
      "\n",
      "#Case 2:\n",
      "a2 = rand(NN);\n",
      "b2 = rand(NN);\n",
      "c2 = rand(NN);\n",
      "\n",
      "#Case 3:\n",
      "a3 = (-1)*rand(NN);\n",
      "b3 = (-1)*rand(NN);\n",
      "c3 = (-1)*rand(NN);\n",
      "\n",
      "#Case 4: - 90% positive values\n",
      "#Assume randn gives 50% negative\n",
      "a4 = [rand(int(NN*8/10)), randn(int(NN*2/10))]; \n",
      "b4 = [rand(int(NN*8/10)), randn(int(NN*2/10))]; \n",
      "c4 = [rand(int(NN*8/10)), randn(int(NN*2/10))]; "
     ],
     "language": "python",
     "metadata": {},
     "outputs": [],
     "prompt_number": 43
    },
    {
     "cell_type": "markdown",
     "metadata": {},
     "source": [
      "####Benchmarking - small (1000)"
     ]
    },
    {
     "cell_type": "code",
     "collapsed": false,
     "input": [
      "#Case 1.\n",
      "println(\"Case 1:\")\n",
      "@time        triad(a1,b1,c1);\n",
      "@time triad_twist1(a1,b1,c1);\n",
      "@time triad_twist2(a1,b1,c1);\n",
      "@time triad_twist3(a1,b1,c1);\n",
      "\n",
      "#Case 2.\n",
      "println(\"Case 2:\")\n",
      "@time        triad(a2,b2,c2);\n",
      "@time triad_twist1(a2,b2,c2);\n",
      "@time triad_twist2(a2,b2,c2);\n",
      "@time triad_twist3(a2,b2,c2);\n",
      "\n",
      "#Case 3.\n",
      "println(\"Case 3:\")\n",
      "@time        triad(a3,b3,c3);\n",
      "@time triad_twist1(a3,b3,c3);\n",
      "@time triad_twist2(a3,b3,c3);\n",
      "@time triad_twist3(a3,b3,c3);\n",
      "\n",
      "#Case 4.\n",
      "println(\"Case 4:\")\n",
      "@time        triad(a4,b4,c4);\n",
      "@time triad_twist1(a4,b4,c4);\n",
      "@time triad_twist2(a4,b4,c4);\n",
      "@time triad_twist3(a4,b4,c4);"
     ],
     "language": "python",
     "metadata": {},
     "outputs": [
      {
       "output_type": "stream",
       "stream": "stdout",
       "text": [
        "Case 1:\n"
       ]
      },
      {
       "output_type": "stream",
       "stream": "stdout",
       "text": [
        "elapsed time: 8.034e-6 seconds (8112 bytes allocated)\n",
        "elapsed time: 1.2158e-5 seconds (8112 bytes allocated)\n",
        "elapsed time: 1.7465e-5 seconds (8112 bytes allocated)\n",
        "elapsed time: 5.869e-6 seconds (8112 bytes allocated)\n",
        "Case 2:\n",
        "elapsed time: 9.591e-6 seconds (8112 bytes allocated)\n",
        "elapsed time: 9.601e-6 seconds (8112 bytes allocated)\n",
        "elapsed time: 1.2769e-5 seconds (8112 bytes allocated)\n",
        "elapsed time: 7.093e-6 seconds (8112 bytes allocated)\n",
        "Case 3:\n",
        "elapsed time: 1.033e-5 seconds (8112 bytes allocated)\n",
        "elapsed time: 1.0849e-5 seconds (8112 bytes allocated)\n",
        "elapsed time: 6.842e-6 seconds (8112 bytes allocated)\n",
        "elapsed time: 9.377e-6 seconds (8112 bytes allocated)\n",
        "Case 4:\n",
        "elapsed time: 7.757e-6 seconds (8112 bytes allocated)\n",
        "elapsed time: 6.015e-6 seconds (8112 bytes allocated)\n",
        "elapsed time: 8.194e-6 seconds (8112 bytes allocated)\n",
        "elapsed time: 6.423e-6 seconds (8112 bytes allocated)\n"
       ]
      }
     ],
     "prompt_number": 43
    },
    {
     "cell_type": "markdown",
     "metadata": {},
     "source": [
      "####Benchmarking - defining arrays (1e7)"
     ]
    },
    {
     "cell_type": "code",
     "collapsed": false,
     "input": [
      "NN = 10000000 #1e7\n",
      "\n",
      "srand(42);\n",
      "#Case 1:\n",
      "a1 = randn(NN);\n",
      "b1 = randn(NN);\n",
      "c1 = randn(NN);\n",
      "\n",
      "#Case 2:\n",
      "a2 = rand(NN);\n",
      "b2 = rand(NN);\n",
      "c2 = rand(NN);\n",
      "\n",
      "#Case 3:\n",
      "a3 = (-1)*rand(NN);\n",
      "b3 = (-1)*rand(NN);\n",
      "c3 = (-1)*rand(NN);\n",
      "\n",
      "#Case 4: - 90% positive values\n",
      "#Assume randn gives 50% negative\n",
      "a4 = [rand(int(NN*8/10)), randn(int(NN*2/10))]; \n",
      "b4 = [rand(int(NN*8/10)), randn(int(NN*2/10))]; \n",
      "c4 = [rand(int(NN*8/10)), randn(int(NN*2/10))]; "
     ],
     "language": "python",
     "metadata": {},
     "outputs": [],
     "prompt_number": 34
    },
    {
     "cell_type": "markdown",
     "metadata": {},
     "source": [
      "####Benchmarking - (1e7)"
     ]
    },
    {
     "cell_type": "code",
     "collapsed": false,
     "input": [
      "#Case 1.\n",
      "println(\"Case 1:\")\n",
      "@time        triad(a1,b1,c1);\n",
      "@time triad_twist1(a1,b1,c1);\n",
      "@time triad_twist2(a1,b1,c1);\n",
      "@time triad_twist3(a1,b1,c1);\n",
      "\n",
      "#Case 2.\n",
      "println(\"Case 2:\")\n",
      "@time        triad(a2,b2,c2);\n",
      "@time triad_twist1(a2,b2,c2);\n",
      "@time triad_twist2(a2,b2,c2);\n",
      "@time triad_twist3(a2,b2,c2);\n",
      "\n",
      "#Case 3.\n",
      "println(\"Case 3:\")\n",
      "@time        triad(a3,b3,c3);\n",
      "@time triad_twist1(a3,b3,c3);\n",
      "@time triad_twist2(a3,b3,c3);\n",
      "@time triad_twist3(a3,b3,c3);\n",
      "\n",
      "#Case 4.\n",
      "println(\"Case 4:\")\n",
      "@time        triad(a4,b4,c4);\n",
      "@time triad_twist1(a4,b4,c4);\n",
      "@time triad_twist2(a4,b4,c4);\n",
      "@time triad_twist3(a4,b4,c4);"
     ],
     "language": "python",
     "metadata": {},
     "outputs": [
      {
       "output_type": "stream",
       "stream": "stdout",
       "text": [
        "Case 1:\n"
       ]
      },
      {
       "output_type": "stream",
       "stream": "stdout",
       "text": [
        "elapsed time: 0.074379533 seconds (80000096 bytes allocated)\n",
        "elapsed time: "
       ]
      },
      {
       "output_type": "stream",
       "stream": "stdout",
       "text": [
        "0.090112802 seconds (80000096 bytes allocated)\n",
        "elapsed time: "
       ]
      },
      {
       "output_type": "stream",
       "stream": "stdout",
       "text": [
        "0.155281303 seconds (80000096 bytes allocated)\n",
        "elapsed time: 0.037289688 seconds (80000096 bytes allocated)\n",
        "Case 2:\n",
        "elapsed time: "
       ]
      },
      {
       "output_type": "stream",
       "stream": "stdout",
       "text": [
        "0.036017748 seconds (80000096 bytes allocated)\n",
        "elapsed time: 0.037621401 seconds (80000096 bytes allocated)\n",
        "elapsed time: "
       ]
      },
      {
       "output_type": "stream",
       "stream": "stdout",
       "text": [
        "0.047062427 seconds (80000096 bytes allocated)\n",
        "elapsed time: 0.036968721 seconds (80000096 bytes allocated)\n",
        "Case 3:\n",
        "elapsed time: 0.033326995 seconds (80000096 bytes allocated)\n",
        "elapsed time: "
       ]
      },
      {
       "output_type": "stream",
       "stream": "stdout",
       "text": [
        "0.034439789 seconds (80000096 bytes allocated)\n",
        "elapsed time: 0.04623659 seconds (80000096 bytes allocated)\n",
        "elapsed time: "
       ]
      },
      {
       "output_type": "stream",
       "stream": "stdout",
       "text": [
        "0.03669142 seconds (80000096 bytes allocated)\n",
        "Case 4:\n",
        "elapsed time: 0.034895837 seconds (80000096 bytes allocated)\n",
        "elapsed time: "
       ]
      },
      {
       "output_type": "stream",
       "stream": "stdout",
       "text": [
        "0.045198645 seconds (80000096 bytes allocated)\n",
        "elapsed time: 0.069143001 seconds (80000096 bytes allocated)\n",
        "elapsed time: "
       ]
      },
      {
       "output_type": "stream",
       "stream": "stdout",
       "text": [
        "0.034911928 seconds (80000096 bytes allocated)\n"
       ]
      }
     ],
     "prompt_number": 43
    },
    {
     "cell_type": "markdown",
     "metadata": {},
     "source": [
      "###Profiling - only for the longer case (1e7)"
     ]
    },
    {
     "cell_type": "code",
     "collapsed": false,
     "input": [
      "Profile.clear()\n",
      "@profile triad(a1,b1,c1);\n",
      "Profile.print()"
     ],
     "language": "python",
     "metadata": {},
     "outputs": [
      {
       "output_type": "stream",
       "stream": "stdout",
       "text": [
        "39 loading.jl; include_string; line: 89\n"
       ]
      },
      {
       "output_type": "stream",
       "stream": "stdout",
       "text": [
        "     39 profile.jl; anonymous; line: 14\n",
        "       5  ...tebooks/hw4/triad.jl; triad; line: 4\n",
        "       34 ...tebooks/hw4/triad.jl; triad; line: 5\n"
       ]
      }
     ],
     "prompt_number": 40
    },
    {
     "cell_type": "code",
     "collapsed": false,
     "input": [
      "Profile.clear()\n",
      "@profile triad_twist1(a1,b1,c1);\n",
      "Profile.print()"
     ],
     "language": "python",
     "metadata": {},
     "outputs": [
      {
       "output_type": "stream",
       "stream": "stdout",
       "text": [
        "91 loading.jl; include_string; line: 89\n"
       ]
      },
      {
       "output_type": "stream",
       "stream": "stdout",
       "text": [
        "     91 profile.jl; anonymous; line: 14\n",
        "       6  ...tebooks/hw4/triad.jl; triad_twist1; line: 13\n",
        "       2  ...tebooks/hw4/triad.jl; triad_twist1; line: 14\n",
        "       25 ...tebooks/hw4/triad.jl; triad_twist1; line: 15\n",
        "       58 ...tebooks/hw4/triad.jl; triad_twist1; line: 17\n"
       ]
      }
     ],
     "prompt_number": 41
    },
    {
     "cell_type": "code",
     "collapsed": false,
     "input": [
      "Profile.clear()\n",
      "@profile triad_twist2(a1,b1,c1);\n",
      "Profile.print()"
     ],
     "language": "python",
     "metadata": {},
     "outputs": [
      {
       "output_type": "stream",
       "stream": "stdout",
       "text": [
        "162 loading.jl; include_string; line: 89\n"
       ]
      },
      {
       "output_type": "stream",
       "stream": "stdout",
       "text": [
        "     162 profile.jl; anonymous; line: 14\n",
        "       7  ...tebooks/hw4/triad.jl; triad_twist2; line: 26\n",
        "       25 ...tebooks/hw4/triad.jl; triad_twist2; line: 27\n",
        "       53 ...tebooks/hw4/triad.jl; triad_twist2; line: 28\n",
        "       12 ...tebooks/hw4/triad.jl; triad_twist2; line: 31\n",
        "       27 ...tebooks/hw4/triad.jl; triad_twist2; line: 32\n",
        "       38 ...tebooks/hw4/triad.jl; triad_twist2; line: 33\n"
       ]
      }
     ],
     "prompt_number": 42
    },
    {
     "cell_type": "code",
     "collapsed": false,
     "input": [
      "Profile.clear()\n",
      "@profile triad_twist3(a1,b1,c1);\n",
      "Profile.print()"
     ],
     "language": "python",
     "metadata": {},
     "outputs": [
      {
       "output_type": "stream",
       "stream": "stdout",
       "text": [
        "59 loading.jl; include_string; line: 89\n"
       ]
      },
      {
       "output_type": "stream",
       "stream": "stdout",
       "text": [
        "     59 profile.jl; anonymous; line: 14\n",
        "       4  ...tebooks/hw4/triad.jl; triad_twist3; line: 42\n",
        "       7  ...tebooks/hw4/triad.jl; triad_twist3; line: 43\n",
        "       48 ...tebooks/hw4/triad.jl; triad_twist3; line: 44\n"
       ]
      }
     ],
     "prompt_number": 43
    },
    {
     "cell_type": "markdown",
     "metadata": {},
     "source": [
      "##3c-d) Noting differences & explanation for behaviour \n",
      "\n",
      "####Again, here are my predictions:\n",
      "\n",
      "####Small vectors (1000):\n",
      "\n",
      "1. I think **triad_twist3** will perform best (heavy branching for the others twist1 and twist2) - still it will be slower than **triad**. -- **_This was correct, I was however surprised that twist3 was faster than triad._**\n",
      "\n",
      "2. I think **triad_twist1** will perform best -- **_This was wrong - twist3 was fastest - I guess abs() of only positive numbers is a very fast operation to do._**\n",
      "\n",
      "3. I think **triad_twist1** will perform best -- **_This was wrong- twist2 was fastest - I guess this is were branching has come in - the absolute fastest was triad itself_**\n",
      "\n",
      "4. I think **triad_twist3** will perform best -- **_This was wrong - twist1 was fastest - still slower than triad itself though_**\n",
      "\n",
      "####Large vectors (10^7):\n",
      "\n",
      "1. I think **triad_twist3** will perform best (heavy branching for the others twist1 and twist2) - still it will be slower than **triad**. **_This was correct, I was however surprised that twist3 was faster than triad._**\n",
      "\n",
      "2. I think **triad_twist1** will perform best **_This was wrong - triad3 was fastest - I guess abs() of only positive numbers is a very fast operation to do._**\n",
      "\n",
      "3. I think **triad_twist1** will perform best -- **_This was correct_**\n",
      "\n",
      "4. I think **triad_twist3** will perform best -- **_This was correct_**\n",
      "\n",
      "#####More Discussion\n",
      "\n",
      "We see that **twist2** is almost always the slowest - this makes sense as it is two pass algorithm, going through the data twice - still it was fastest for small, negative only vectors - effect of branching??\n",
      "\n",
      "For the bigger vectors, **twist3** sometimes performs better than **triad** - I guess that \"-\" must be a more expensive operation than \"+\". For the smaller vector, we see that in case 3, that it is also expensive to do abs() if you have a lot of negative values.\n"
     ]
    }
   ],
   "metadata": {}
  }
 ]
}