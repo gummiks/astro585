{
 "metadata": {
  "language": "Julia",
  "name": ""
 },
 "nbformat": 3,
 "nbformat_minor": 0,
 "worksheets": [
  {
   "cells": [
    {
     "cell_type": "heading",
     "level": 1,
     "metadata": {},
     "source": [
      "Astro 585 Spring 2014<br>\n",
      "Homework 6:  Parallel Computing:  Multi-Core Workstations"
     ]
    },
    {
     "cell_type": "heading",
     "level": 4,
     "metadata": {},
     "source": [
      "Q1.  First, we'll parallelize some simple code from a previous exercise.  I'll walk you though the syntax in Julia and highlight some potential mistakes."
     ]
    },
    {
     "cell_type": "markdown",
     "metadata": {},
     "source": [
      "First, check how many processors your computer has.  On linux, you can do this by running /cat/cpuinfo from the command line and seeing how many processors are listed.\n",
      "If your machine only has one, then ssh to another computer with Julia installed for the parallel parts.  \n",
      "Next, check how many processor Julia is currently using."
     ]
    },
    {
     "cell_type": "code",
     "collapsed": false,
     "input": [
      "nprocs()"
     ],
     "language": "python",
     "metadata": {},
     "outputs": [
      {
       "metadata": {},
       "output_type": "pyout",
       "prompt_number": 2,
       "text": [
        "1"
       ]
      }
     ],
     "prompt_number": 2
    },
    {
     "cell_type": "markdown",
     "metadata": {},
     "source": [
      "When using the REPL interface, you can tell Julia to use multiple cores on a single workstation by starting it like \"julia -p 4\".\n",
      "When using IJulia, it's easier to tell it to add processors from within the notebook with the addprocs(N) command.\n",
      "Using addprocs(N) to tell Julia to use as many processors as your workstation has.  "
     ]
    },
    {
     "cell_type": "code",
     "collapsed": false,
     "input": [
      "addprocs(4)"
     ],
     "language": "python",
     "metadata": {},
     "outputs": [
      {
       "metadata": {},
       "output_type": "pyout",
       "prompt_number": 3,
       "text": [
        "4-element Array{Any,1}:\n",
        " 2\n",
        " 3\n",
        " 4\n",
        " 5"
       ]
      }
     ],
     "prompt_number": 3
    },
    {
     "cell_type": "markdown",
     "metadata": {},
     "source": [
      "Now, check how many processor and how many \"workers\" are active."
     ]
    },
    {
     "cell_type": "code",
     "collapsed": false,
     "input": [
      "println(\"nprocs()= \",nprocs())\n",
      "println(\"nworkers()= \",nworkers())\n",
      "println(\"myid()= \",myid())"
     ],
     "language": "python",
     "metadata": {},
     "outputs": [
      {
       "output_type": "stream",
       "stream": "stdout",
       "text": [
        "nprocs()= 5"
       ]
      },
      {
       "output_type": "stream",
       "stream": "stdout",
       "text": [
        "\n",
        "nworkers()= 4\n",
        "myid()= 1\n"
       ]
      }
     ],
     "prompt_number": 4
    },
    {
     "cell_type": "markdown",
     "metadata": {},
     "source": [
      "---\n",
      "####1a.  What's the differences between nprocs() and nworkers()?\n",
      "\n",
      "Issuing help(nprocs) we get:\n",
      "    Loading help data...\n",
      "    Base.nprocs()\n",
      "    \n",
      "       Get the number of available processors.\n",
      "\n",
      "Issuing help(nworkers) we get:\n",
      "    Base.nworkers()\n",
      "\n",
      "       Get the number of available worker processors. This is one less\n",
      "       than nprocs(). Equal to nprocs() if nprocs() == 1.\n",
      "---"
     ]
    },
    {
     "cell_type": "markdown",
     "metadata": {},
     "source": [
      "You can instruct Julia to start a calculation on another node using @spawn or @spawnat.  \n",
      "Since the whole point is you want multiple processors working at once, you don't want to have ot wait until that function finished.\n",
      "Therefore, these macros return a RemoteRef data type, rather than the return value.  You can retreive the returned value using fetch."
     ]
    },
    {
     "cell_type": "code",
     "collapsed": false,
     "input": [
      "ref = @spawn 1+1"
     ],
     "language": "python",
     "metadata": {},
     "outputs": [
      {
       "metadata": {},
       "output_type": "pyout",
       "prompt_number": 20,
       "text": [
        "RemoteRef(5,1,10)"
       ]
      }
     ],
     "prompt_number": 20
    },
    {
     "cell_type": "code",
     "collapsed": false,
     "input": [
      "fetch(ref)"
     ],
     "language": "python",
     "metadata": {},
     "outputs": [
      {
       "metadata": {},
       "output_type": "pyout",
       "prompt_number": 21,
       "text": [
        "2"
       ]
      }
     ],
     "prompt_number": 21
    },
    {
     "cell_type": "markdown",
     "metadata": {},
     "source": [
      "Define our beloved normal pdf function"
     ]
    },
    {
     "cell_type": "code",
     "collapsed": false,
     "input": [
      "normal_pdf(x) = exp(-0.5*x.*x)./sqrt(2.*pi)"
     ],
     "language": "python",
     "metadata": {},
     "outputs": [
      {
       "metadata": {},
       "output_type": "pyout",
       "prompt_number": 2,
       "text": [
        "normal_pdf (generic function with 1 method)"
       ]
      }
     ],
     "prompt_number": 2
    },
    {
     "cell_type": "markdown",
     "metadata": {},
     "source": [
      "Now let's write a loop-based integrate function like from the previous lab."
     ]
    },
    {
     "cell_type": "code",
     "collapsed": false,
     "input": [
      "# Calculate \\int_a^b dx func(x) using n function evaluations\n",
      "# Approximates integral as uniformly spaced rectangles\n",
      "# Avoids evaluating func at a or b, in case of singularities\n",
      "function int_normal_pdf(a::Real, b::Real, n::Integer = 1000000)\n",
      "  @assert(n>2)\n",
      "  integral = 0.\n",
      "  for i in 1:n\n",
      "    x = a+i*(b-a)/(n+1)\n",
      "    integral += normal_pdf(x)\n",
      "  end\n",
      "  integral *= (b-a)/n;\n",
      "end"
     ],
     "language": "python",
     "metadata": {},
     "outputs": [
      {
       "metadata": {},
       "output_type": "pyout",
       "prompt_number": 3,
       "text": [
        "int_normal_pdf (generic function with 2 methods)"
       ]
      }
     ],
     "prompt_number": 3
    },
    {
     "cell_type": "markdown",
     "metadata": {},
     "source": [
      "Let's write a function to perform a few tests that our function is accurate"
     ]
    },
    {
     "cell_type": "code",
     "collapsed": false,
     "input": [
      "using Base.Test\n",
      "function test_int_normal_pdf(func::Function; n::Integer = 1000000, eps::Real = 1.0e-6)\n",
      "  limits = 1:5\n",
      "  for limit in limits\n",
      "    @test_approx_eq_eps func(-limit,limit) erf(limit/sqrt(2.0)) eps\n",
      "  end\n",
      "end\n",
      "test_int_normal_pdf(int_normal_pdf)\n",
      "@time  int_normal_pdf(-1.0,1.0,1000000)\n",
      "@time  int_normal_pdf(-1.0,1.0,1000000)"
     ],
     "language": "python",
     "metadata": {},
     "outputs": [
      {
       "output_type": "stream",
       "stream": "stdout",
       "text": [
        "elapsed time: 0."
       ]
      },
      {
       "output_type": "stream",
       "stream": "stdout",
       "text": [
        "056297811 seconds (143572 bytes allocated)\n",
        "elapsed time: 0.053352432 seconds (64 bytes allocated)\n"
       ]
      },
      {
       "metadata": {},
       "output_type": "pyout",
       "prompt_number": 4,
       "text": [
        "0.6826896908849539"
       ]
      }
     ],
     "prompt_number": 4
    },
    {
     "cell_type": "markdown",
     "metadata": {},
     "source": [
      "Now, let's parallelize that loop using the @parallel macro and test the function for accuracy."
     ]
    },
    {
     "cell_type": "code",
     "collapsed": false,
     "input": [
      "function int_normal_pdf(a::Real, b::Real, n::Integer = 1000000)\n",
      "  @assert(n>2)\n",
      "  integral = 0.\n",
      "  @parallel for i in 1:n\n",
      "    x = a+i*(b-a)/(n+1)\n",
      "    integral += normal_pdf(x)\n",
      "  end\n",
      "  integral *= (b-a)/n;\n",
      "end\n",
      "\n",
      "test_int_normal_pdf(int_normal_pdf)"
     ],
     "language": "python",
     "metadata": {},
     "outputs": [
      {
       "ename": "LoadError",
       "evalue": "assertion failed: |:(func(-(limit),limit)) - :(erf(/(limit,sqrt(2.0))))| <= 1.0e-6\n  :(func(-(limit),limit)) = 0.0\n  :(erf(/(limit,sqrt(2.0)))) = 0.6826894921370859\n  difference = 0.6826894921370859 > 1.0e-6\nwhile loading In[5], in expression starting on line 11",
       "output_type": "pyerr",
       "traceback": [
        "assertion failed: |:(func(-(limit),limit)) - :(erf(/(limit,sqrt(2.0))))| <= 1.0e-6\n  :(func(-(limit),limit)) = 0.0\n  :(erf(/(limit,sqrt(2.0)))) = 0.6826894921370859\n  difference = 0.6826894921370859 > 1.0e-6\nwhile loading In[5], in expression starting on line 11",
        " in error at error.jl:22",
        " in test_approx_eq at test.jl:68",
        " in test_int_normal_pdf at In[4]:5"
       ]
      }
     ],
     "prompt_number": 5
    },
    {
     "cell_type": "markdown",
     "metadata": {},
     "source": [
      "---\n",
      "####1b.  Notice that we get messages like normal_pdf not defined.  Why is that?\n",
      "I wasn't exactly sure at first, but it seems that we are only defining the functions on one processor - now we are using 4 processors; on three of which the functions are undefined.\n",
      "\n",
      "---\n",
      "\n",
      "We've defined functions on only the first processor.  We need to make sure they're also definied on any other processors that we want to use the functions.  The easiest way to do that is with the @everywhere macro.  You can either stick it in front of each function (in your notebook) or save the functions to a file and load them with @everywhere include(\"file.jl\").  \n",
      "Let's redefine the above functions, but now forcing them to be declared on each processor."
     ]
    },
    {
     "cell_type": "code",
     "collapsed": false,
     "input": [
      "@everywhere normal_pdf(x) = exp(-0.5*x.*x)./sqrt(2.*pi)\n",
      "@everywhere using Base.Test\n",
      "\n",
      "@everywhere function test_int_normal_pdf(func::Function; n::Integer = 1000000, eps::Real = 1.0e-6)\n",
      "  limits = 1:5\n",
      "  for limit in limits\n",
      "    @test_approx_eq_eps func(-limit,limit) erf(limit/sqrt(2.0)) eps\n",
      "  end\n",
      "end\n",
      "\n",
      "@everywhere function int_normal_pdf(a::Real, b::Real, n::Integer = 1000000)\n",
      "  @assert(n>2)\n",
      "  integral = 0.\n",
      "  @parallel for i in 1:n\n",
      "    x = a+i*(b-a)/(n+1)\n",
      "    integral += normal_pdf(x)\n",
      "  end\n",
      "  integral *= (b-a)/n\n",
      "end\n",
      "\n",
      "test_int_normal_pdf(int_normal_pdf)"
     ],
     "language": "python",
     "metadata": {},
     "outputs": [
      {
       "ename": "LoadError",
       "evalue": "assertion failed: |:(func(-(limit),limit)) - :(erf(/(limit,sqrt(2.0))))| <= 1.0e-6\n  :(func(-(limit),limit)) = 0.0\n  :(erf(/(limit,sqrt(2.0)))) = 0.6826894921370859\n  difference = 0.6826894921370859 > 1.0e-6\nwhile loading In[24], in expression starting on line 21",
       "output_type": "pyerr",
       "traceback": [
        "assertion failed: |:(func(-(limit),limit)) - :(erf(/(limit,sqrt(2.0))))| <= 1.0e-6\n  :(func(-(limit),limit)) = 0.0\n  :(erf(/(limit,sqrt(2.0)))) = 0.6826894921370859\n  difference = 0.6826894921370859 > 1.0e-6\nwhile loading In[24], in expression starting on line 21",
        " in error at error.jl:22",
        " in test_approx_eq at test.jl:68",
        " in test_int_normal_pdf at In[24]:7"
       ]
      }
     ],
     "prompt_number": 24
    },
    {
     "cell_type": "markdown",
     "metadata": {},
     "source": [
      "---\n",
      "####1c.  Now, we've eliminated some of the error messages, but our test still fails.  And it can fail badly.  Why is that?\n",
      "\n",
      "Our assertion failed, the calculated integral is not correct. We have a race condition: we are not synchronizing the additions for the variable `integral` - the different processess can be reading and writing at the same time, which results in a wrong result.\n",
      "\n",
      "---"
     ]
    },
    {
     "cell_type": "markdown",
     "metadata": {},
     "source": [
      "This type of operation is so common, that Julia provides a special syntax that makes this kind of loop easy:"
     ]
    },
    {
     "cell_type": "code",
     "collapsed": false,
     "input": [
      "@everywhere function int_normal_pdf(a::Real, b::Real, n::Integer = 1000000)\n",
      "  @assert(n>2)\n",
      "  integral = @parallel (+) for i in 1:n\n",
      "    x = a+i*(b-a)/(n+1)\n",
      "    normal_pdf(x)\n",
      "  end\n",
      "  integral *= (b-a)/n;\n",
      "end\n",
      "\n",
      "test_int_normal_pdf(int_normal_pdf)\n",
      "@time  int_normal_pdf(-1.0,1.0,1000000)\n",
      "@time  int_normal_pdf(-1.0,1.0,1000000)"
     ],
     "language": "python",
     "metadata": {},
     "outputs": [
      {
       "output_type": "stream",
       "stream": "stdout",
       "text": [
        "elapsed time: 0."
       ]
      },
      {
       "output_type": "stream",
       "stream": "stdout",
       "text": [
        "039388654 seconds (249808 bytes allocated)\n",
        "elapsed time: 0.028404614 seconds (2432 bytes allocated)\n"
       ]
      },
      {
       "metadata": {},
       "output_type": "pyout",
       "prompt_number": 25,
       "text": [
        "0.6826896908849539"
       ]
      }
     ],
     "prompt_number": 25
    },
    {
     "cell_type": "markdown",
     "metadata": {},
     "source": [
      "Here Julia is taking the last line of the for loop as the value to be \"reduced\" by the \"+\" operator and the result is stored in integral.  Note that the loop is no longer executed in order, since different processors are executing different parts of the loop."
     ]
    },
    {
     "cell_type": "markdown",
     "metadata": {},
     "source": [
      "Next, let's try performing the same calculation using parallel map function (pmap)"
     ]
    },
    {
     "cell_type": "code",
     "collapsed": false,
     "input": [
      "function int_normal_pdf(a::Real,b::Real, n::Integer = 1000000)\n",
      "  @assert(n>2)\n",
      "  dx = (b-a)/n\n",
      "  x = (a+0.5*dx):dx:(b-0.5*dx)\n",
      "  integral = sum(pmap(normal_pdf,x)) * (b-a)/n \n",
      "end\n",
      "#test_int_normal_pdf(int_normal_pdf)  # Commented out for speed's sake\n",
      "@time  int_normal_pdf(-1.0,1.0,10000)\n",
      "@time  int_normal_pdf(-1.0,1.0,10000)"
     ],
     "language": "python",
     "metadata": {},
     "outputs": [
      {
       "output_type": "stream",
       "stream": "stdout",
       "text": [
        "elapsed time: 0."
       ]
      },
      {
       "output_type": "stream",
       "stream": "stdout",
       "text": [
        "207935761 seconds (16786168 bytes allocated)\n",
        "elapsed time: 0.04429237 seconds (12267064 bytes allocated)\n"
       ]
      },
      {
       "metadata": {},
       "output_type": "pyout",
       "prompt_number": 8,
       "text": [
        "0.682689492943655"
       ]
      }
     ],
     "prompt_number": 8
    },
    {
     "cell_type": "markdown",
     "metadata": {},
     "source": [
      "Yikes, that's crazy slow.  You may even want to restart the kernel.  "
     ]
    },
    {
     "cell_type": "markdown",
     "metadata": {},
     "source": [
      "Next, we'll make use of distributed arrays to demonstrate how to handle more complex parallelization tasks."
     ]
    },
    {
     "cell_type": "code",
     "collapsed": false,
     "input": [
      "function int_normal_pdf(a::Real, b::Real, n::Integer = 1000000)\n",
      "  @assert(n>2)\n",
      "  x = distribute([ a+i*(b-a)/(n+1) for i in 1:n ])\n",
      "  integral = sum(map(normal_pdf,x)) * (b-a)/n \n",
      "end \n",
      "#test_int_normal_pdf(int_normal_pdf)  # Commented out for speed's sake\n",
      "@time  int_normal_pdf(-1.0,1.0,10000)\n",
      "@time  int_normal_pdf(-1.0,1.0,10000)"
     ],
     "language": "python",
     "metadata": {},
     "outputs": [
      {
       "output_type": "stream",
       "stream": "stdout",
       "text": [
        "elapsed time: 0."
       ]
      },
      {
       "output_type": "stream",
       "stream": "stdout",
       "text": [
        "538706482 seconds (30039040 bytes allocated)\n",
        "elapsed time: 0.022335089 seconds (8041000 bytes allocated)\n"
       ]
      },
      {
       "metadata": {},
       "output_type": "pyout",
       "prompt_number": 9,
       "text": [
        "0.682709365328419"
       ]
      }
     ],
     "prompt_number": 9
    },
    {
     "cell_type": "code",
     "collapsed": false,
     "input": [
      "function int_normal_pdf(a::Real, b::Real, n::Integer = 1000000)\n",
      "  @assert(n>2)\n",
      "  x = distribute([ a+i*(b-a)/(n+1) for i in 1:n ])\n",
      "  integral = sum(pmap(normal_pdf,x)) * (b-a)/n \n",
      "end\n",
      "#test_int_normal_pdf(int_normal_pdf)  # Commented out for speed's sake\n",
      "@time  int_normal_pdf(-1.0,1.0,10000)\n",
      "@time  int_normal_pdf(-1.0,1.0,10000)"
     ],
     "language": "python",
     "metadata": {},
     "outputs": [
      {
       "output_type": "stream",
       "stream": "stdout",
       "text": [
        "elapsed time: 0."
       ]
      },
      {
       "output_type": "stream",
       "stream": "stdout",
       "text": [
        "169201822 seconds (21812016 bytes allocated)\n",
        "elapsed time: 0.074712713 seconds (19752592 bytes allocated)\n"
       ]
      },
      {
       "metadata": {},
       "output_type": "pyout",
       "prompt_number": 10,
       "text": [
        "0.682709365328419"
       ]
      }
     ],
     "prompt_number": 10
    },
    {
     "cell_type": "markdown",
     "metadata": {},
     "source": [
      "While we succeeded in using distributed array, the performance wasn't very good.  \n",
      "Next, we'll implement a more efficient parallelization using distribute arrays.  \n",
      "For this, you'll need to look up several functions in line 3 below and consider them piece by piece.  \n",
      "First, create a distributed array with dzeros, dones, drand or drandn.  \n",
      "Then, look at which processors are storing data for that array with procs().\n",
      "Then, check how much of the array is stored on the processor running your notebook using localpart() or myindexes()\n",
      "Then, use @spawnat and localpart() to have a processor operate only on the portion of the distributed array that it has in its own memory.\n",
      "Then use fetch with map to retreive the results from each processor working on it's own portion of the distributed array.\n",
      "Finally, use reduce to combine all these elements.  "
     ]
    },
    {
     "cell_type": "code",
     "collapsed": false,
     "input": [
      "function int_normal_pdf(a::Real, b::Real, n::Integer = 1000000)\n",
      "  @assert(n>2)\n",
      "  x = distribute([ a+i*(b-a)/(n+1) for i in 1:n ])\n",
      "  integral = (b-a)/n * reduce(+,map(fetch,{ (@spawnat p sum(normal_pdf(localpart(x)))) for p in procs(x) }))\n",
      "end\n",
      "test_int_normal_pdf(int_normal_pdf)\n",
      "@time  int_normal_pdf(-1.0,1.0,1000000)\n",
      "@time  int_normal_pdf(-1.0,1.0,1000000)\n"
     ],
     "language": "python",
     "metadata": {},
     "outputs": [
      {
       "output_type": "stream",
       "stream": "stdout",
       "text": [
        "elapsed time: 0."
       ]
      },
      {
       "output_type": "stream",
       "stream": "stdout",
       "text": [
        "067938506 seconds (48290560 bytes allocated)\n",
        "elapsed time: 0.040623776 seconds (48011112 bytes allocated)\n"
       ]
      },
      {
       "metadata": {},
       "output_type": "pyout",
       "prompt_number": 11,
       "text": [
        "0.6826896908849678"
       ]
      }
     ],
     "prompt_number": 11
    },
    {
     "cell_type": "markdown",
     "metadata": {},
     "source": [
      "As you can see, @parallel is better suited for small loops that execute quickly.\n",
      "Map and pmap are more useful for distributing more time consuming functions.  "
     ]
    },
    {
     "cell_type": "markdown",
     "metadata": {},
     "source": [
      "#Question 2\n",
      "\n",
      "Q2.  In this exercise, you'll parallelize a more time consuming simulation task.  We'll consider a population of stars, each of which has a  probability $\\eta$ of having one planet.  Then we'll assume a that the planets' orbital periods are drawn from a truncated inverse gamma distribution.  An inverse gamma distribution takes two model parameters, one shape parameter that is like a power-law index for large orbital periods and one scale factor that determines below what period planets will become much less common.  We'll truncate the period distribution, so that no planets orbit inside a star or have a period greater than 4/3 of a year (based on Kepler's mission lifetime).  Each planet has a probability of transiting it's star approximated by $R_*/a$, where $R_*$ is the radius of the star and a is the semi-major axis of the orbit (related to orbital period via Kepler's third law).  (For simplicity, we'll make many assumptions like all stars will be one solar mass and one solar radius, no planet will be too small to be detected above the noise, each star can have only zero or one planets, planets will be on circular orbits, etc. )   We will generate one set of \"observations\" using a particular set of parameter values.  Then we will explore the three-dimensional parameter space ($\\eta$, shape, scale), pretending that we don't know the true values.   For each set of model parameters that we consider, we'll generate one (or more) simulated data sets and comapre those to the \"observations\" via several summary statistics (e.g., number of transiting planets, mean period of transiting planets, standard deviation of transiting planets, etc.) and record a \"distance\" between the summary statistics of the observations and the summary statistics for the simulated data.  You can then plot various projections of this 3-d function to gain intuition for what combinations of $\\eta$, shape and scale are plaussible matches to the data.  \n",
      "\n",
      "##:::NOTE: RESTART THE KERNEL HERE:::"
     ]
    },
    {
     "cell_type": "markdown",
     "metadata": {},
     "source": [
      "#2a.\n",
      "First, read through and load the two files that contain a starter program.\n",
      "Then, perform a set of simulations using parameters similar to those below.\n"
     ]
    },
    {
     "cell_type": "code",
     "collapsed": false,
     "input": [
      "@everywhere include(\"HW6_Q2_planet_populations_once.jl\")"
     ],
     "language": "python",
     "metadata": {},
     "outputs": [
      {
       "output_type": "stream",
       "stream": "stdout",
       "text": [
        "\tFrom worker 3:\tLoading help data...\n"
       ]
      },
      {
       "output_type": "stream",
       "stream": "stdout",
       "text": [
        "\tFrom worker 5:\tLoading help data...\n"
       ]
      },
      {
       "output_type": "stream",
       "stream": "stdout",
       "text": [
        "\tFrom worker 4:\tLoading help data...\n"
       ]
      },
      {
       "output_type": "stream",
       "stream": "stdout",
       "text": [
        "\tFrom worker 2:\tLoading help data...\n"
       ]
      },
      {
       "output_type": "stream",
       "stream": "stdout",
       "text": [
        "Loading help data...\n"
       ]
      }
     ],
     "prompt_number": 6
    },
    {
     "cell_type": "code",
     "collapsed": false,
     "input": [
      "Pkg.update()"
     ],
     "language": "python",
     "metadata": {},
     "outputs": [
      {
       "output_type": "stream",
       "stream": "stderr",
       "text": [
        "INFO: Updating METADATA..."
       ]
      },
      {
       "output_type": "stream",
       "stream": "stderr",
       "text": [
        "\n"
       ]
      },
      {
       "output_type": "stream",
       "stream": "stderr",
       "text": [
        "INFO: Updating cache of JSON..."
       ]
      },
      {
       "output_type": "stream",
       "stream": "stderr",
       "text": [
        "\n"
       ]
      },
      {
       "output_type": "stream",
       "stream": "stderr",
       "text": [
        "INFO: Updating cache of ZMQ..."
       ]
      },
      {
       "output_type": "stream",
       "stream": "stderr",
       "text": [
        "\n"
       ]
      },
      {
       "output_type": "stream",
       "stream": "stderr",
       "text": [
        "INFO: Updating cache of HDF5..."
       ]
      },
      {
       "output_type": "stream",
       "stream": "stderr",
       "text": [
        "\n"
       ]
      },
      {
       "output_type": "stream",
       "stream": "stderr",
       "text": [
        "INFO: Computing changes..."
       ]
      },
      {
       "output_type": "stream",
       "stream": "stderr",
       "text": [
        "\n"
       ]
      },
      {
       "output_type": "stream",
       "stream": "stderr",
       "text": [
        "INFO: Upgrading Distributions: v0.4.0 => v0.4.2"
       ]
      },
      {
       "output_type": "stream",
       "stream": "stderr",
       "text": [
        "\n"
       ]
      },
      {
       "output_type": "stream",
       "stream": "stderr",
       "text": [
        "INFO: Upgrading HDF5: v0.2.17 => v0.2.20"
       ]
      },
      {
       "output_type": "stream",
       "stream": "stderr",
       "text": [
        "\n"
       ]
      },
      {
       "output_type": "stream",
       "stream": "stderr",
       "text": [
        "INFO: Upgrading JSON: v0.3.3 => v0.3.5"
       ]
      },
      {
       "output_type": "stream",
       "stream": "stderr",
       "text": [
        "\n"
       ]
      },
      {
       "output_type": "stream",
       "stream": "stderr",
       "text": [
        "INFO: Upgrading NumericExtensions: v0.5.4 => v0.5.6"
       ]
      },
      {
       "output_type": "stream",
       "stream": "stderr",
       "text": [
        "\n"
       ]
      },
      {
       "output_type": "stream",
       "stream": "stderr",
       "text": [
        "INFO: Upgrading PDMats: v0.1.0 => v0.1.1"
       ]
      },
      {
       "output_type": "stream",
       "stream": "stderr",
       "text": [
        "\n"
       ]
      },
      {
       "output_type": "stream",
       "stream": "stderr",
       "text": [
        "INFO: Upgrading StatsBase: v0.3.7 => v0.3.9"
       ]
      },
      {
       "output_type": "stream",
       "stream": "stderr",
       "text": [
        "\n"
       ]
      },
      {
       "output_type": "stream",
       "stream": "stderr",
       "text": [
        "INFO: Upgrading ZMQ: v0.1.8 => v0.1.9"
       ]
      },
      {
       "output_type": "stream",
       "stream": "stderr",
       "text": [
        "\n"
       ]
      },
      {
       "output_type": "stream",
       "stream": "stderr",
       "text": [
        "INFO: Building HDF5"
       ]
      },
      {
       "output_type": "stream",
       "stream": "stderr",
       "text": [
        "\n"
       ]
      },
      {
       "output_type": "stream",
       "stream": "stderr",
       "text": [
        "INFO: Building ZMQ"
       ]
      },
      {
       "output_type": "stream",
       "stream": "stderr",
       "text": [
        "\n"
       ]
      }
     ],
     "prompt_number": 13
    },
    {
     "cell_type": "code",
     "collapsed": false,
     "input": [
      "@everywhere using Distributions; #NOTE: You have to have @everywhere here!!\n",
      "using PyPlot;\n",
      "@everywhere const days_in_year = 365.2425; #NOTE: You have to have @everywhere here!!"
     ],
     "language": "python",
     "metadata": {},
     "outputs": [
      {
       "output_type": "stream",
       "stream": "stdout",
       "text": [
        "Loading help data...\n"
       ]
      }
     ],
     "prompt_number": 1
    },
    {
     "cell_type": "code",
     "collapsed": false,
     "input": [
      "@everywhere include(\"HW6_Q2_planet_populations.jl\")"
     ],
     "language": "python",
     "metadata": {},
     "outputs": [],
     "prompt_number": 7
    },
    {
     "cell_type": "code",
     "collapsed": false,
     "input": [
      "min_eta = 0.0\n",
      "max_eta = 1.0\n",
      "min_shape = 0.0001\n",
      "max_shape = 1.0\n",
      "min_log_scale = log10(0.3)\n",
      "max_log_scale = log10(3.0)  \n",
      "num_eta = 4\n",
      "num_shape = 4\n",
      "num_scale = 4\n",
      "num_evals = 1\n",
      "etas = linspace(min_eta,max_eta,num_eta)\n",
      "scales = 10.0.^linspace(min_log_scale,max_log_scale,num_scale)\n",
      "shapes = linspace(min_shape,max_shape,num_shape)\n",
      "num_stars = 1600 # Note - I changed this - was 16000 - for speedups\n",
      "eta = 0.2\n",
      "shape = 0.1\n",
      "scale = 1.0;"
     ],
     "language": "python",
     "metadata": {},
     "outputs": [],
     "prompt_number": 1
    },
    {
     "cell_type": "markdown",
     "metadata": {},
     "source": [
      "##Serial - note `num_stars`=1600"
     ]
    },
    {
     "cell_type": "code",
     "collapsed": false,
     "input": [
      "srand(42)\n",
      "@time result = eval_model_on_grid_loops(etas,shapes,scales,num_stars; num_evals = num_evals, true_eta = eta, true_shape = shape, true_scale = scale);"
     ],
     "language": "python",
     "metadata": {},
     "outputs": [
      {
       "output_type": "stream",
       "stream": "stdout",
       "text": [
        "elapsed time: 3"
       ]
      },
      {
       "output_type": "stream",
       "stream": "stdout",
       "text": [
        ".764715133 seconds (25160588 bytes allocated)\n"
       ]
      }
     ],
     "prompt_number": 7
    },
    {
     "cell_type": "code",
     "collapsed": false,
     "input": [
      "result"
     ],
     "language": "python",
     "metadata": {},
     "outputs": [
      {
       "metadata": {},
       "output_type": "pyout",
       "prompt_number": 4,
       "text": [
        "4x4x4 Array{Float64,3}:\n",
        "[:, :, 1] =\n",
        " 1.15202   1.15202   1.15202   1.15202\n",
        " 2.10526   4.78947   7.52632  11.7895 \n",
        " 4.78947  11.8947   18.6842   24.6316 \n",
        " 7.26316  16.8947   27.9474   37.5263 \n",
        "\n",
        "[:, :, 2] =\n",
        " 1.15202  1.15202   1.15202   1.15202\n",
        " 1.36842  1.94737   4.84211   6.73684\n",
        " 2.42105  6.15789  11.3684   14.3158 \n",
        " 4.52632  9.36842  16.6316   23.0    \n",
        "\n",
        "[:, :, 3] =\n",
        " 1.15202   1.15202  1.15202   1.15202\n",
        " 0.677728  1.42105  2.84211   3.21053\n",
        " 1.36842   4.21053  6.31579   9.21053\n",
        " 2.42105   4.68421  9.31579  14.5263 \n",
        "\n",
        "[:, :, 4] =\n",
        " 1.15202  1.15202  1.15202  1.15202\n",
        " 1.11388  1.03812  1.29212  1.94737\n",
        " 1.43902  1.63158  3.89474  4.63158\n",
        " 1.34574  4.57895  5.94737  7.68421"
       ]
      }
     ],
     "prompt_number": 4
    },
    {
     "cell_type": "markdown",
     "metadata": {},
     "source": [
      "Note that for speed's sake, I've limited the number of function evaluations to only 4 in each of the three model parameters.  \n",
      "Additionally, I've reduced the number of stars to only 16000 (NOTE: I put it to 8000)  Kepler observed ~160,000 stars at a time.  \n",
      "\n",
      "You might like to plot the results, using a command such as "
     ]
    },
    {
     "cell_type": "code",
     "collapsed": false,
     "input": [
      "using PyPlot\n",
      "PyPlot.contour(log10(scales),shapes,[minimum(result[:,j,k]) for j in 1:num_scale, k in 1:num_shape])\n",
      "plot(log10([scale]),[shape],\"ro\")  # Put dot where true values of parameters are\n",
      "xlabel(L\"$\\log_{10}(\\mathrm{scale})$\");  ylabel(\"shape\");"
     ],
     "language": "python",
     "metadata": {},
     "outputs": [
      {
       "metadata": {},
       "output_type": "display_data",
       "png": "[encoded data removed]",
       "text": [
        "Figure(PyObject <matplotlib.figure.Figure object at 0x7ffe7ef24210>)"
       ]
      }
     ],
     "prompt_number": 7
    },
    {
     "cell_type": "markdown",
     "metadata": {},
     "source": [
      "##Q2b\n",
      "\n",
      "2b.  Parallelize at least one of the for loops to speed up the calculations performed by eval_model_on_grid_loops.  The easiest way will be to parallelize the inner-most loop (that's embedded inside evaluate_mode).  Test that your code gives similar results for at least a few sets of parameter values. (To save time, you don't need to test every point on the grid).  "
     ]
    },
    {
     "cell_type": "markdown",
     "metadata": {},
     "source": [
      "###Parallel:"
     ]
    },
    {
     "cell_type": "code",
     "collapsed": false,
     "input": [
      "#Include the parallel versions:\n",
      "@everywhere include(\"HW6_Q2_planet_populations_par.jl\")"
     ],
     "language": "python",
     "metadata": {},
     "outputs": [],
     "prompt_number": 8
    },
    {
     "cell_type": "markdown",
     "metadata": {},
     "source": [
      "Still only using one processor:"
     ]
    },
    {
     "cell_type": "code",
     "collapsed": false,
     "input": [
      "println(\"nprocs()= \",nprocs())\n",
      "println(\"nworkers()= \",nworkers())\n",
      "println(\"myid()= \",myid())"
     ],
     "language": "python",
     "metadata": {},
     "outputs": [
      {
       "output_type": "stream",
       "stream": "stdout",
       "text": [
        "nprocs()= 1"
       ]
      },
      {
       "output_type": "stream",
       "stream": "stdout",
       "text": [
        "\n",
        "nworkers()= 1\n",
        "myid()= 1\n"
       ]
      }
     ],
     "prompt_number": 9
    },
    {
     "cell_type": "code",
     "collapsed": false,
     "input": [
      "#PARALLEL\n",
      "srand(42)\n",
      "@time result_par = eval_model_on_grid_loops_par(etas,shapes,scales,num_stars; num_evals = num_evals, true_eta = eta, true_shape = shape, true_scale = scale);\n",
      "#PyPlot.contour(log10(scales),shapes,[minimum(result_par[:,j,k]) for j in 1:num_scale, k in 1:num_shape])\n",
      "#plot(log10([scale]),[shape],\"ro\")  # Put dot where true values of parameters are\n",
      "#xlabel(L\"$\\log_{10}(\\mathrm{scale})$\");  ylabel(\"shape\");"
     ],
     "language": "python",
     "metadata": {},
     "outputs": [
      {
       "output_type": "stream",
       "stream": "stdout",
       "text": [
        "elapsed time: 3"
       ]
      },
      {
       "output_type": "stream",
       "stream": "stdout",
       "text": [
        ".765258995 seconds (24644532 bytes allocated)\n"
       ]
      }
     ],
     "prompt_number": 9
    },
    {
     "cell_type": "code",
     "collapsed": false,
     "input": [
      "result_par"
     ],
     "language": "python",
     "metadata": {},
     "outputs": [
      {
       "metadata": {},
       "output_type": "pyout",
       "prompt_number": 10,
       "text": [
        "4x4x4 Array{Float64,3}:\n",
        "[:, :, 1] =\n",
        " 1.15202   1.15202   1.15202   1.15202\n",
        " 2.10526   4.78947   7.52632  11.7895 \n",
        " 4.78947  11.8947   18.6842   24.6316 \n",
        " 7.26316  16.8947   27.9474   37.5263 \n",
        "\n",
        "[:, :, 2] =\n",
        " 1.15202  1.15202   1.15202   1.15202\n",
        " 1.36842  1.94737   4.84211   6.73684\n",
        " 2.42105  6.15789  11.3684   14.3158 \n",
        " 4.52632  9.36842  16.6316   23.0    \n",
        "\n",
        "[:, :, 3] =\n",
        " 1.15202   1.15202  1.15202   1.15202\n",
        " 0.677728  1.42105  2.84211   3.21053\n",
        " 1.36842   4.21053  6.31579   9.21053\n",
        " 2.42105   4.68421  9.31579  14.5263 \n",
        "\n",
        "[:, :, 4] =\n",
        " 1.15202  1.15202  1.15202  1.15202\n",
        " 1.11388  1.03812  1.29212  1.94737\n",
        " 1.43902  1.63158  3.89474  4.63158\n",
        " 1.34574  4.57895  5.94737  7.68421"
       ]
      }
     ],
     "prompt_number": 10
    },
    {
     "cell_type": "markdown",
     "metadata": {},
     "source": [
      "####Lets check if they are the same"
     ]
    },
    {
     "cell_type": "code",
     "collapsed": false,
     "input": [
      "using Base.Test\n",
      "@test_approx_eq result_par result"
     ],
     "language": "python",
     "metadata": {},
     "outputs": [],
     "prompt_number": 11
    },
    {
     "cell_type": "markdown",
     "metadata": {},
     "source": [
      "No errors - so they are the same!"
     ]
    },
    {
     "cell_type": "markdown",
     "metadata": {},
     "source": [
      "##Q2c\n",
      "2c.  Compare the performance of your parallel code to the serial code while varrying the number of processors (e.g., 1, 2, 4, 8).\n",
      "For your benchmarking, make sure you use a computer that has at least 8 cores.  How does the wall clock time scale with the number of processors?"
     ]
    },
    {
     "cell_type": "markdown",
     "metadata": {},
     "source": [
      "###2 processors:"
     ]
    },
    {
     "cell_type": "code",
     "collapsed": false,
     "input": [
      "#Lets add one processor:\n",
      "addprocs(1)\n",
      "println(\"nprocs()= \",nprocs())\n",
      "println(\"nworkers()= \",nworkers())\n",
      "println(\"myid()= \",myid())"
     ],
     "language": "python",
     "metadata": {},
     "outputs": [
      {
       "output_type": "stream",
       "stream": "stdout",
       "text": [
        "nprocs()= 2"
       ]
      },
      {
       "output_type": "stream",
       "stream": "stdout",
       "text": [
        "\n",
        "nworkers()= 1\n",
        "myid()= 1\n"
       ]
      }
     ],
     "prompt_number": 2
    },
    {
     "cell_type": "markdown",
     "metadata": {},
     "source": [
      "We need to include this again - _everywhere_"
     ]
    },
    {
     "cell_type": "code",
     "collapsed": false,
     "input": [
      "@everywhere using Distributions;\n",
      "using PyPlot;\n",
      "@everywhere const days_in_year = 365.2425;\n",
      "#Include the parallel versions:\n",
      "@everywhere include(\"HW6_Q2_planet_populations_par.jl\")"
     ],
     "language": "python",
     "metadata": {},
     "outputs": [],
     "prompt_number": 3
    },
    {
     "cell_type": "code",
     "collapsed": false,
     "input": [
      "#Serial\n",
      "#srand(42)\n",
      "#@time result = eval_model_on_grid_loops(etas,shapes,scales,num_stars; num_evals = num_evals, true_eta = eta, true_shape = shape, true_scale = scale);\n",
      "\n",
      "#PARALLEL\n",
      "srand(42)\n",
      "@time result_par2 = eval_model_on_grid_loops_par(etas,shapes,scales,num_stars; num_evals = num_evals, true_eta = eta, true_shape = shape, true_scale = scale);\n",
      "#Lets test if serial, and parallel are the same\n",
      "#@test_approx_eq result_par2 result"
     ],
     "language": "python",
     "metadata": {},
     "outputs": [
      {
       "output_type": "stream",
       "stream": "stdout",
       "text": [
        "elapsed time: 6"
       ]
      },
      {
       "output_type": "stream",
       "stream": "stdout",
       "text": [
        ".59798888 seconds (30608780 bytes allocated)\n"
       ]
      },
      {
       "metadata": {},
       "output_type": "pyout",
       "prompt_number": 4,
       "text": [
        "4x4x4 Array{Float64,3}:\n",
        "[:, :, 1] =\n",
        " 1.15202   1.15202   1.15202   1.15202\n",
        " 2.10526   4.31579   7.57895  11.6842 \n",
        " 4.52632  11.3684   18.9474   25.1579 \n",
        " 7.84211  17.7895   27.6316   38.6842 \n",
        "\n",
        "[:, :, 2] =\n",
        " 1.15202    1.15202   1.15202   1.15202\n",
        " 0.578947   2.78947   5.05263   6.89474\n",
        " 3.05263    6.52632  11.7368   13.8947 \n",
        " 4.73684   11.2632   16.3684   22.4737 \n",
        "\n",
        "[:, :, 3] =\n",
        " 1.15202   1.15202  1.15202   1.15202\n",
        " 0.550039  1.63158  2.84211   3.42105\n",
        " 1.78947   3.78947  5.84211   9.36842\n",
        " 2.94737   6.15789  9.15789  12.7895 \n",
        "\n",
        "[:, :, 4] =\n",
        " 1.15202  1.15202   1.15202  1.15202\n",
        " 1.20127  0.736842  1.57895  2.0    \n",
        " 1.79303  1.94737   3.78947  4.78947\n",
        " 2.21053  3.52632   5.52632  8.52632"
       ]
      }
     ],
     "prompt_number": 4
    },
    {
     "cell_type": "markdown",
     "metadata": {},
     "source": [
      "###3 processors:"
     ]
    },
    {
     "cell_type": "code",
     "collapsed": false,
     "input": [
      "#Lets add one processor:\n",
      "addprocs(1)\n",
      "println(\"nprocs()= \",nprocs())\n",
      "println(\"nworkers()= \",nworkers())\n",
      "println(\"myid()= \",myid())"
     ],
     "language": "python",
     "metadata": {},
     "outputs": [
      {
       "output_type": "stream",
       "stream": "stdout",
       "text": [
        "nprocs()= 3"
       ]
      },
      {
       "output_type": "stream",
       "stream": "stdout",
       "text": [
        "\n",
        "nworkers()= 2\n",
        "myid()= 1\n"
       ]
      }
     ],
     "prompt_number": 15
    },
    {
     "cell_type": "code",
     "collapsed": false,
     "input": [
      "@everywhere using Distributions;\n",
      "using PyPlot;\n",
      "@everywhere const days_in_year = 365.2425;\n",
      "#Include the parallel versions:\n",
      "@everywhere include(\"HW6_Q2_planet_populations_par.jl\")"
     ],
     "language": "python",
     "metadata": {},
     "outputs": [],
     "prompt_number": 16
    },
    {
     "cell_type": "code",
     "collapsed": false,
     "input": [
      "#PARALLEL\n",
      "srand(42)\n",
      "@time result_par3 = eval_model_on_grid_loops_par(etas,shapes,scales,num_stars; num_evals = num_evals, true_eta = eta, true_shape = shape, true_scale = scale);\n",
      "#@test_approx_eq result_par2 result"
     ],
     "language": "python",
     "metadata": {},
     "outputs": [
      {
       "output_type": "stream",
       "stream": "stdout",
       "text": [
        "elapsed time: 6"
       ]
      },
      {
       "output_type": "stream",
       "stream": "stdout",
       "text": [
        ".067945796 seconds (11437680 bytes allocated)\n"
       ]
      },
      {
       "metadata": {},
       "output_type": "pyout",
       "prompt_number": 17,
       "text": [
        "4x4x4 Array{Float64,3}:\n",
        "[:, :, 1] =\n",
        " 1.15202   1.15202   1.15202   1.15202\n",
        " 1.68421   5.21053   9.10526  11.5789 \n",
        " 4.36842  11.6316   17.7368   24.2105 \n",
        " 7.31579  17.0526   26.8421   39.0526 \n",
        "\n",
        "[:, :, 2] =\n",
        " 1.15202    1.15202   1.15202   1.15202\n",
        " 0.684211   3.63158   5.26316   7.21053\n",
        " 2.57895    6.89474  12.1053   16.1579 \n",
        " 5.05263   10.3684   18.4211   22.7368 \n",
        "\n",
        "[:, :, 3] =\n",
        " 1.15202   1.15202    1.15202   1.15202\n",
        " 0.377497  0.894737   2.78947   3.94737\n",
        " 1.31579   3.73684    6.84211   8.63158\n",
        " 3.68421   6.84211   10.4211   13.6842 \n",
        "\n",
        "[:, :, 4] =\n",
        " 1.15202  1.15202  1.15202  1.15202\n",
        " 1.5136   1.7323   1.36842  2.0    \n",
        " 1.29274  1.68421  4.0      4.36842\n",
        " 1.52632  3.31579  5.47368  8.42105"
       ]
      }
     ],
     "prompt_number": 17
    },
    {
     "cell_type": "markdown",
     "metadata": {},
     "source": [
      "###4 processors:"
     ]
    },
    {
     "cell_type": "code",
     "collapsed": false,
     "input": [
      "#Lets add one processor:\n",
      "addprocs(1)\n",
      "println(\"nprocs()= \",nprocs())\n",
      "println(\"nworkers()= \",nworkers())\n",
      "println(\"myid()= \",myid())"
     ],
     "language": "python",
     "metadata": {},
     "outputs": [
      {
       "output_type": "stream",
       "stream": "stdout",
       "text": [
        "nprocs()= 4"
       ]
      },
      {
       "output_type": "stream",
       "stream": "stdout",
       "text": [
        "\n",
        "nworkers()= 3\n",
        "myid()= 1\n"
       ]
      }
     ],
     "prompt_number": 18
    },
    {
     "cell_type": "code",
     "collapsed": false,
     "input": [
      "@everywhere using Distributions;\n",
      "using PyPlot;\n",
      "@everywhere const days_in_year = 365.2425;\n",
      "#Include the parallel versions:\n",
      "@everywhere include(\"HW6_Q2_planet_populations_par.jl\")"
     ],
     "language": "python",
     "metadata": {},
     "outputs": [],
     "prompt_number": 19
    },
    {
     "cell_type": "code",
     "collapsed": false,
     "input": [
      "#PARALLEL\n",
      "srand(42)\n",
      "@time result_par3 = eval_model_on_grid_loops_par(etas,shapes,scales,num_stars; num_evals = num_evals, true_eta = eta, true_shape = shape, true_scale = scale);\n",
      "#@test_approx_eq result_par2 result"
     ],
     "language": "python",
     "metadata": {},
     "outputs": [
      {
       "output_type": "stream",
       "stream": "stdout",
       "text": [
        "elapsed time: 6"
       ]
      },
      {
       "output_type": "stream",
       "stream": "stdout",
       "text": [
        ".016327457 seconds (11395848 bytes allocated)\n"
       ]
      },
      {
       "metadata": {},
       "output_type": "pyout",
       "prompt_number": 20,
       "text": [
        "4x4x4 Array{Float64,3}:\n",
        "[:, :, 1] =\n",
        " 1.15202   1.15202   1.15202   1.15202\n",
        " 1.21053   5.31579   8.26316  11.3684 \n",
        " 5.0      10.3684   18.8947   24.8421 \n",
        " 8.10526  18.1053   29.4737   38.1579 \n",
        "\n",
        "[:, :, 2] =\n",
        " 1.15202   1.15202   1.15202   1.15202\n",
        " 0.842105  2.31579   4.89474   7.31579\n",
        " 3.0       5.68421  10.0526   15.4211 \n",
        " 5.26316   9.15789  16.3684   22.3684 \n",
        "\n",
        "[:, :, 3] =\n",
        " 1.15202   1.15202  1.15202   1.15202\n",
        " 0.838662  1.36842  2.42105   4.05263\n",
        " 1.84211   3.26316  5.94737   8.73684\n",
        " 2.73684   6.68421  9.36842  15.0526 \n",
        "\n",
        "[:, :, 4] =\n",
        " 1.15202   1.15202   1.15202  1.15202\n",
        " 1.53901   0.982938  1.31579  1.63158\n",
        " 0.905969  1.73684   3.31579  4.15789\n",
        " 2.36842   3.63158   4.84211  7.78947"
       ]
      }
     ],
     "prompt_number": 20
    },
    {
     "cell_type": "markdown",
     "metadata": {},
     "source": [
      "##2d\n",
      "2d.  Modify part of the code, so as to replace the for loops in eval_model_on_grid_map with a call to the map function.  \n",
      "First, test this using a single processor.  Once that works, switch map to pmap and retest.\n",
      "\n",
      "##NOTE: RESTART KERNEL HERE:"
     ]
    },
    {
     "cell_type": "markdown",
     "metadata": {},
     "source": [
      "###Using map - and only one processor:"
     ]
    },
    {
     "cell_type": "code",
     "collapsed": false,
     "input": [
      "#Lets add one processor:\n",
      "#addprocs(1)\n",
      "println(\"nprocs()= \",nprocs())\n",
      "println(\"nworkers()= \",nworkers())\n",
      "println(\"myid()= \",myid())\n",
      "min_eta = 0.0\n",
      "max_eta = 1.0\n",
      "min_shape = 0.0001\n",
      "max_shape = 1.0\n",
      "min_log_scale = log10(0.3)\n",
      "max_log_scale = log10(3.0)  \n",
      "num_eta = 4\n",
      "num_shape = 4\n",
      "num_scale = 4\n",
      "num_evals = 1\n",
      "etas = linspace(min_eta,max_eta,num_eta)\n",
      "scales = 10.0.^linspace(min_log_scale,max_log_scale,num_scale)\n",
      "shapes = linspace(min_shape,max_shape,num_shape)\n",
      "num_stars = 1600 # Note - I changed this - was 16000 - for speedups\n",
      "eta = 0.2\n",
      "shape = 0.1\n",
      "scale = 1.0;\n",
      "@everywhere using Distributions;\n",
      "using PyPlot;\n",
      "@everywhere const days_in_year = 365.2425;\n",
      "#Include the parallel versions:\n",
      "@everywhere include(\"HW6_Q2_planet_populations_par.jl\")\n",
      "#PARALLEL\n",
      "srand(42)\n",
      "@time result_map = eval_model_on_grid_map(etas,shapes,scales,num_stars; num_evals = num_evals, true_eta = eta, true_shape = shape, true_scale = scale);\n",
      "#@test_approx_eq result_par2 result"
     ],
     "language": "python",
     "metadata": {},
     "outputs": [
      {
       "output_type": "stream",
       "stream": "stdout",
       "text": [
        "nprocs()= 1"
       ]
      },
      {
       "output_type": "stream",
       "stream": "stdout",
       "text": [
        "\n",
        "nworkers()= 1\n",
        "myid()= 1\n",
        "elapsed time: "
       ]
      },
      {
       "output_type": "stream",
       "stream": "stdout",
       "text": [
        "3.751372662 seconds (24185060 bytes allocated)\n"
       ]
      },
      {
       "metadata": {},
       "output_type": "pyout",
       "prompt_number": 2,
       "text": [
        "4x4x4 Array{Float64,3}:\n",
        "[:, :, 1] =\n",
        " 1.15202   1.15202   1.15202   1.15202\n",
        " 2.10526   4.78947   7.52632  11.7895 \n",
        " 4.78947  11.8947   18.6842   24.6316 \n",
        " 7.26316  16.8947   27.9474   37.5263 \n",
        "\n",
        "[:, :, 2] =\n",
        " 1.15202  1.15202   1.15202   1.15202\n",
        " 1.36842  1.94737   4.84211   6.73684\n",
        " 2.42105  6.15789  11.3684   14.3158 \n",
        " 4.52632  9.36842  16.6316   23.0    \n",
        "\n",
        "[:, :, 3] =\n",
        " 1.15202   1.15202  1.15202   1.15202\n",
        " 0.677728  1.42105  2.84211   3.21053\n",
        " 1.36842   4.21053  6.31579   9.21053\n",
        " 2.42105   4.68421  9.31579  14.5263 \n",
        "\n",
        "[:, :, 4] =\n",
        " 1.15202  1.15202  1.15202  1.15202\n",
        " 1.11388  1.03812  1.29212  1.94737\n",
        " 1.43902  1.63158  3.89474  4.63158\n",
        " 1.34574  4.57895  5.94737  7.68421"
       ]
      }
     ],
     "prompt_number": 2
    },
    {
     "cell_type": "markdown",
     "metadata": {},
     "source": [
      "###Using pmap - and only one processor:"
     ]
    },
    {
     "cell_type": "code",
     "collapsed": false,
     "input": [
      "#Lets add one processor:\n",
      "#addprocs(1)\n",
      "println(\"nprocs()= \",nprocs())\n",
      "println(\"nworkers()= \",nworkers())\n",
      "println(\"myid()= \",myid())\n",
      "#@everywhere using Distributions;\n",
      "#using PyPlot;\n",
      "#@everywhere const days_in_year = 365.2425;\n",
      "#Include the parallel versions:\n",
      "#@everywhere include(\"HW6_Q2_planet_populations_par.jl\")\n",
      "#PARALLEL\n",
      "srand(42)\n",
      "@time result_pmap = eval_model_on_grid_pmap(etas,shapes,scales,num_stars; num_evals = num_evals, true_eta = eta, true_shape = shape, true_scale = scale);\n",
      "#@test_approx_eq result_par2 result"
     ],
     "language": "python",
     "metadata": {},
     "outputs": [
      {
       "output_type": "stream",
       "stream": "stdout",
       "text": [
        "nprocs()= 1"
       ]
      },
      {
       "output_type": "stream",
       "stream": "stdout",
       "text": [
        "\n",
        "nworkers()= 1\n",
        "myid()= 1\n",
        "elapsed time: "
       ]
      },
      {
       "output_type": "stream",
       "stream": "stdout",
       "text": [
        "3.763850759 seconds (27119564 bytes allocated)\n"
       ]
      },
      {
       "metadata": {},
       "output_type": "pyout",
       "prompt_number": 4,
       "text": [
        "64-element Array{Any,1}:\n",
        "  1.15202\n",
        "  2.10526\n",
        "  4.78947\n",
        "  7.26316\n",
        "  1.15202\n",
        "  4.78947\n",
        " 11.8947 \n",
        " 16.8947 \n",
        "  1.15202\n",
        "  7.52632\n",
        " 18.6842 \n",
        " 27.9474 \n",
        "  1.15202\n",
        "  \u22ee      \n",
        "  1.15202\n",
        "  1.03812\n",
        "  1.63158\n",
        "  4.57895\n",
        "  1.15202\n",
        "  1.29212\n",
        "  3.89474\n",
        "  5.94737\n",
        "  1.15202\n",
        "  1.94737\n",
        "  4.63158\n",
        "  7.68421"
       ]
      }
     ],
     "prompt_number": 4
    },
    {
     "cell_type": "markdown",
     "metadata": {},
     "source": [
      "##2e\n",
      "2e.  Compare the performance of your parallel code using map to the parallel code using @parallel.  \n",
      "Again, varry the number of processors (e.g., 1, 2, 4, 8) and make sure you use a computer that has at least 8 cores.  \n",
      "How does the wall clock time scale with the number of processors?"
     ]
    },
    {
     "cell_type": "markdown",
     "metadata": {},
     "source": [
      "##Comparing map, and @parallel using 2 cores:"
     ]
    },
    {
     "cell_type": "markdown",
     "metadata": {},
     "source": [
      "###map"
     ]
    },
    {
     "cell_type": "code",
     "collapsed": false,
     "input": [
      "#Lets add one processor:\n",
      "#addprocs(1)\n",
      "println(\"nprocs()= \",nprocs())\n",
      "println(\"nworkers()= \",nworkers())\n",
      "println(\"myid()= \",myid())\n",
      "#@everywhere using Distributions;\n",
      "#using PyPlot;\n",
      "#@everywhere const days_in_year = 365.2425;\n",
      "#Include the parallel versions:\n",
      "#@everywhere include(\"HW6_Q2_planet_populations_par.jl\")\n",
      "#PARALLEL\n",
      "srand(42)\n",
      "@time result_pmap = eval_model_on_grid_map(etas,shapes,scales,num_stars; num_evals = num_evals, true_eta = eta, true_shape = shape, true_scale = scale);\n",
      "#@test_approx_eq result_par2 result"
     ],
     "language": "python",
     "metadata": {},
     "outputs": [
      {
       "output_type": "stream",
       "stream": "stdout",
       "text": [
        "nprocs()= 2"
       ]
      },
      {
       "output_type": "stream",
       "stream": "stdout",
       "text": [
        "\n",
        "nworkers()= 1\n",
        "myid()= 1\n",
        "elapsed time: "
       ]
      },
      {
       "output_type": "stream",
       "stream": "stdout",
       "text": [
        "3.620630008 seconds (21039560 bytes allocated)\n"
       ]
      },
      {
       "metadata": {},
       "output_type": "pyout",
       "prompt_number": 6,
       "text": [
        "4x4x4 Array{Float64,3}:\n",
        "[:, :, 1] =\n",
        " 1.15202   1.15202   1.15202   1.15202\n",
        " 2.10526   4.78947   7.52632  11.7895 \n",
        " 4.78947  11.8947   18.6842   24.6316 \n",
        " 7.26316  16.8947   27.9474   37.5263 \n",
        "\n",
        "[:, :, 2] =\n",
        " 1.15202  1.15202   1.15202   1.15202\n",
        " 1.36842  1.94737   4.84211   6.73684\n",
        " 2.42105  6.15789  11.3684   14.3158 \n",
        " 4.52632  9.36842  16.6316   23.0    \n",
        "\n",
        "[:, :, 3] =\n",
        " 1.15202   1.15202  1.15202   1.15202\n",
        " 0.677728  1.42105  2.84211   3.21053\n",
        " 1.36842   4.21053  6.31579   9.21053\n",
        " 2.42105   4.68421  9.31579  14.5263 \n",
        "\n",
        "[:, :, 4] =\n",
        " 1.15202  1.15202  1.15202  1.15202\n",
        " 1.11388  1.03812  1.29212  1.94737\n",
        " 1.43902  1.63158  3.89474  4.63158\n",
        " 1.34574  4.57895  5.94737  7.68421"
       ]
      }
     ],
     "prompt_number": 6
    },
    {
     "cell_type": "markdown",
     "metadata": {},
     "source": [
      "###@parallel:"
     ]
    },
    {
     "cell_type": "code",
     "collapsed": false,
     "input": [
      "#Lets add one processor:\n",
      "#addprocs(1)\n",
      "println(\"nprocs()= \",nprocs())\n",
      "println(\"nworkers()= \",nworkers())\n",
      "println(\"myid()= \",myid())\n",
      "#@everywhere using Distributions;\n",
      "#using PyPlot;\n",
      "#@everywhere const days_in_year = 365.2425;\n",
      "#Include the parallel versions:\n",
      "#@everywhere include(\"HW6_Q2_planet_populations_par.jl\")\n",
      "\n",
      "#PARALLEL\n",
      "srand(42)\n",
      "@time result_par2 = eval_model_on_grid_loops_par(etas,shapes,scales,num_stars; num_evals = num_evals, true_eta = eta, true_shape = shape, true_scale = scale);\n",
      "#Lets test if serial, and parallel are the same\n",
      "#@test_approx_eq result_par2 result"
     ],
     "language": "python",
     "metadata": {},
     "outputs": [
      {
       "output_type": "stream",
       "stream": "stdout",
       "text": [
        "nprocs()= 2"
       ]
      },
      {
       "output_type": "stream",
       "stream": "stdout",
       "text": [
        "\n",
        "nworkers()= 1\n",
        "myid()= 1\n"
       ]
      },
      {
       "output_type": "stream",
       "stream": "stdout",
       "text": [
        "elapsed time: 5"
       ]
      },
      {
       "output_type": "stream",
       "stream": "stdout",
       "text": [
        ".713674849 seconds (13269884 bytes allocated)\n"
       ]
      },
      {
       "metadata": {},
       "output_type": "pyout",
       "prompt_number": 7,
       "text": [
        "4x4x4 Array{Float64,3}:\n",
        "[:, :, 1] =\n",
        " 1.15202   1.15202   1.15202   1.15202\n",
        " 1.73684   5.89474   8.31579  11.3158 \n",
        " 5.0      11.7895   17.7895   23.1053 \n",
        " 7.05263  17.2632   25.3684   37.7895 \n",
        "\n",
        "[:, :, 2] =\n",
        " 1.15202   1.15202   1.15202   1.15202\n",
        " 1.05263   3.15789   4.10526   7.94737\n",
        " 3.10526   6.94737  11.2105   15.4737 \n",
        " 4.68421  10.8421   17.4211   26.1053 \n",
        "\n",
        "[:, :, 3] =\n",
        " 1.15202  1.15202   1.15202   1.15202\n",
        " 0.41695  1.57895   2.47368   3.21053\n",
        " 1.26316  4.10526   5.63158   8.42105\n",
        " 3.73684  6.26316  10.5789   12.9474 \n",
        "\n",
        "[:, :, 4] =\n",
        " 1.15202  1.15202   1.15202  1.15202\n",
        " 1.41929  0.736842  1.36842  2.15789\n",
        " 1.47651  1.84211   3.84211  5.15789\n",
        " 1.84211  2.78947   6.21053  6.89474"
       ]
      }
     ],
     "prompt_number": 7
    },
    {
     "cell_type": "markdown",
     "metadata": {},
     "source": [
      "_We see that map is faster!_"
     ]
    },
    {
     "cell_type": "markdown",
     "metadata": {},
     "source": [
      "##2f\n",
      "2f.  Modify the code from 2e so as to make use of DistributedArrays.  When using DistributedArrays, use map, not pmap.  The function map automatically parallelizes the calculations across processors letting each processor work on the local portion of the distributed array.  map returns a distributed array with the same shape and distribution as the input DistributedArray.  (If you use pmap, then it'll take much longer, since there will be lots of unnecessary communications, and return a normal Array.)  Retest."
     ]
    },
    {
     "cell_type": "code",
     "collapsed": false,
     "input": [
      "#Lets add one processor:\n",
      "#addprocs(1)\n",
      "println(\"nprocs()= \",nprocs())\n",
      "println(\"nworkers()= \",nworkers())\n",
      "println(\"myid()= \",myid())\n",
      "@everywhere using Distributions;\n",
      "using PyPlot;\n",
      "@everywhere const days_in_year = 365.2425;\n",
      "#Include the parallel versions:\n",
      "@everywhere include(\"HW6_Q2_planet_populations_par.jl\")\n",
      "\n",
      "#PARALLEL\n",
      "srand(42)\n",
      "print(\"Map - distributed arrays: \")\n",
      "println(@elapsed result_par2 = eval_model_on_grid_map_distributed(etas,shapes,scales,num_stars; num_evals = num_evals, true_eta = eta, true_shape = shape, true_scale = scale))\n",
      "#Lets test if serial, and parallel are the same\n",
      "#@test_approx_eq result_par2 result\n",
      "\n",
      "#Lets add one processor:\n",
      "#addprocs(1)\n",
      "println(\"nprocs()= \",nprocs())\n",
      "println(\"nworkers()= \",nworkers())\n",
      "println(\"myid()= \",myid())\n",
      "#@everywhere using Distributions;\n",
      "#using PyPlot;\n",
      "#@everywhere const days_in_year = 365.2425;\n",
      "#Include the parallel versions:\n",
      "#@everywhere include(\"HW6_Q2_planet_populations_par.jl\")\n",
      "#PARALLEL\n",
      "srand(42)\n",
      "print(\"Map - standard arrays: \")\n",
      "println(@elapsed result_pmap = eval_model_on_grid_map(etas,shapes,scales,num_stars; num_evals = num_evals, true_eta = eta, true_shape = shape, true_scale = scale))\n",
      "#@test_approx_eq result_par2 result"
     ],
     "language": "python",
     "metadata": {},
     "outputs": [
      {
       "output_type": "stream",
       "stream": "stdout",
       "text": [
        "nprocs()= 2"
       ]
      },
      {
       "output_type": "stream",
       "stream": "stdout",
       "text": [
        "\n",
        "nworkers()= 1\n",
        "myid()= 1\n"
       ]
      },
      {
       "output_type": "stream",
       "stream": "stdout",
       "text": [
        "Map - distributed arrays: "
       ]
      },
      {
       "output_type": "stream",
       "stream": "stdout",
       "text": [
        "3."
       ]
      },
      {
       "output_type": "stream",
       "stream": "stdout",
       "text": [
        "799151588\n",
        "nprocs()= 2\n",
        "nworkers()= 1\n",
        "myid()= 1\n",
        "Map - standard arrays: 3"
       ]
      },
      {
       "output_type": "stream",
       "stream": "stdout",
       "text": [
        ".615035186\n"
       ]
      }
     ],
     "prompt_number": 12
    },
    {
     "cell_type": "markdown",
     "metadata": {},
     "source": [
      "##2g\n",
      "2g. Compare the performance of your parallel code using DistributedArrays to that of your code using standard arrays.  \n",
      "Explain why the performance is does not improve more signiifcantly.  "
     ]
    },
    {
     "cell_type": "markdown",
     "metadata": {},
     "source": [
      "We see that using **distributed** arrays (and two cores), then it took 3.799 seconds, but using **standard** arrays, then it took 3.615 seconds on two cores - _they are very similar._ Now I want to try increasing num_stars:\n",
      "\n",
      "num_stars=8000"
     ]
    },
    {
     "cell_type": "code",
     "collapsed": false,
     "input": [
      "num_stars = 8000\n",
      "\n",
      "#Lets add one processor:\n",
      "#addprocs(1)\n",
      "println(\"nprocs()= \",nprocs())\n",
      "println(\"nworkers()= \",nworkers())\n",
      "println(\"myid()= \",myid())\n",
      "@everywhere using Distributions;\n",
      "using PyPlot;\n",
      "@everywhere const days_in_year = 365.2425;\n",
      "#Include the parallel versions:\n",
      "@everywhere include(\"HW6_Q2_planet_populations_par.jl\")\n",
      "\n",
      "#PARALLEL\n",
      "srand(42)\n",
      "print(\"Map - distributed arrays: \")\n",
      "println(@elapsed result_par2 = eval_model_on_grid_map_distributed(etas,shapes,scales,num_stars; num_evals = num_evals, true_eta = eta, true_shape = shape, true_scale = scale))\n",
      "#Lets test if serial, and parallel are the same\n",
      "#@test_approx_eq result_par2 result\n",
      "\n",
      "#Lets add one processor:\n",
      "#addprocs(1)\n",
      "println(\"nprocs()= \",nprocs())\n",
      "println(\"nworkers()= \",nworkers())\n",
      "println(\"myid()= \",myid())\n",
      "#@everywhere using Distributions;\n",
      "#using PyPlot;\n",
      "#@everywhere const days_in_year = 365.2425;\n",
      "#Include the parallel versions:\n",
      "#@everywhere include(\"HW6_Q2_planet_populations_par.jl\")\n",
      "#PARALLEL\n",
      "srand(42)\n",
      "print(\"Map - standard arrays: \")\n",
      "println(@elapsed result_pmap = eval_model_on_grid_map(etas,shapes,scales,num_stars; num_evals = num_evals, true_eta = eta, true_shape = shape, true_scale = scale))\n",
      "#@test_approx_eq result_par2 result"
     ],
     "language": "python",
     "metadata": {},
     "outputs": [
      {
       "output_type": "stream",
       "stream": "stdout",
       "text": [
        "nprocs()= 2"
       ]
      },
      {
       "output_type": "stream",
       "stream": "stdout",
       "text": [
        "\n",
        "nworkers()= 1\n",
        "myid()= 1\n"
       ]
      },
      {
       "output_type": "stream",
       "stream": "stdout",
       "text": [
        "Map - distributed arrays: "
       ]
      },
      {
       "output_type": "stream",
       "stream": "stdout",
       "text": [
        "17."
       ]
      },
      {
       "output_type": "stream",
       "stream": "stdout",
       "text": [
        "756412198\n",
        "nprocs()= 2\n",
        "nworkers()= 1\n",
        "myid()= 1\n",
        "Map - standard arrays: 17"
       ]
      },
      {
       "output_type": "stream",
       "stream": "stdout",
       "text": [
        ".55775185\n"
       ]
      }
     ],
     "prompt_number": 13
    },
    {
     "cell_type": "markdown",
     "metadata": {},
     "source": [
      "We see that the standard arrays are still faster - maybe the communication overhead with distributed arrays is just too much in this case? \n",
      "\n",
      "Now I want to try to use 4 cores:"
     ]
    },
    {
     "cell_type": "code",
     "collapsed": false,
     "input": [
      "num_stars = 8000\n",
      "\n",
      "#Lets add two processors:\n",
      "#addprocs(2)\n",
      "println(\"nprocs()= \",nprocs())\n",
      "println(\"nworkers()= \",nworkers())\n",
      "println(\"myid()= \",myid())\n",
      "@everywhere using Distributions;\n",
      "using PyPlot;\n",
      "@everywhere const days_in_year = 365.2425;\n",
      "#Include the parallel versions:\n",
      "@everywhere include(\"HW6_Q2_planet_populations_par.jl\")\n",
      "\n",
      "#PARALLEL\n",
      "srand(42)\n",
      "print(\"Map - distributed arrays: \")\n",
      "println(@elapsed result_par2 = eval_model_on_grid_map_distributed(etas,shapes,scales,num_stars; num_evals = num_evals, true_eta = eta, true_shape = shape, true_scale = scale))\n",
      "#Lets test if serial, and parallel are the same\n",
      "#@test_approx_eq result_par2 result\n",
      "\n",
      "#Lets add one processor:\n",
      "#addprocs(1)\n",
      "println(\"nprocs()= \",nprocs())\n",
      "println(\"nworkers()= \",nworkers())\n",
      "println(\"myid()= \",myid())\n",
      "#@everywhere using Distributions;\n",
      "#using PyPlot;\n",
      "#@everywhere const days_in_year = 365.2425;\n",
      "#Include the parallel versions:\n",
      "#@everywhere include(\"HW6_Q2_planet_populations_par.jl\")\n",
      "#PARALLEL\n",
      "srand(42)\n",
      "print(\"Map - standard arrays: \")\n",
      "println(@elapsed result_pmap = eval_model_on_grid_map(etas,shapes,scales,num_stars; num_evals = num_evals, true_eta = eta, true_shape = shape, true_scale = scale))\n",
      "#@test_approx_eq result_par2 result"
     ],
     "language": "python",
     "metadata": {},
     "outputs": [
      {
       "output_type": "stream",
       "stream": "stdout",
       "text": [
        "nprocs()= 4"
       ]
      },
      {
       "output_type": "stream",
       "stream": "stdout",
       "text": [
        "\n",
        "nworkers()= 3\n",
        "myid()= 1\n"
       ]
      },
      {
       "output_type": "stream",
       "stream": "stdout",
       "text": [
        "Map - distributed arrays: "
       ]
      },
      {
       "output_type": "stream",
       "stream": "stdout",
       "text": [
        "9."
       ]
      },
      {
       "output_type": "stream",
       "stream": "stdout",
       "text": [
        "406082059\n",
        "nprocs()= 4\n",
        "nworkers()= 3\n",
        "myid()= 1\n",
        "Map - standard arrays: 25"
       ]
      },
      {
       "output_type": "stream",
       "stream": "stdout",
       "text": [
        ".887696524\n"
       ]
      }
     ],
     "prompt_number": 15
    },
    {
     "cell_type": "markdown",
     "metadata": {},
     "source": [
      "Interesting; now the distributed arrays show quite the speedup; while the standard arrays are much slower."
     ]
    },
    {
     "cell_type": "code",
     "collapsed": false,
     "input": [],
     "language": "python",
     "metadata": {},
     "outputs": []
    }
   ],
   "metadata": {}
  }
 ]
}